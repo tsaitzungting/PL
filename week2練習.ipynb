{
 "cells": [
  {
   "cell_type": "code",
   "execution_count": 23,
   "id": "14ae4a3f",
   "metadata": {},
   "outputs": [
    {
     "name": "stdout",
     "output_type": "stream",
     "text": [
      "A判賠: 17981 元\n",
      "B判賠: 7706 元\n"
     ]
    }
   ],
   "source": [
    "#習題一#\n",
    "# str\n",
    "A方=\"X\"\n",
    "B方=\"Y\"\n",
    "total=25688\n",
    "X=(total*0.7)\n",
    "Y=(total*0.3)\n",
    "print(\"A判賠:\",int(X),\"元\")\n",
    "print(\"B判賠:\",int(Y),\"元\")"
   ]
  },
  {
   "cell_type": "code",
   "execution_count": 25,
   "id": "f070d332",
   "metadata": {},
   "outputs": [
    {
     "name": "stdout",
     "output_type": "stream",
     "text": [
      "丁oo判賠: 12620 元\n"
     ]
    }
   ],
   "source": [
    "#習題二#\n",
    "# str\n",
    "money=11805\n",
    "rate=0.0005\n",
    "month1=150\n",
    "month2=300\n",
    "rate_money=money*(1+rate)**61\n",
    "fine=(month1+month2)\n",
    "total=(rate_money+fine)\n",
    "print(\"丁oo判賠:\",int(total),\"元\")"
   ]
  },
  {
   "cell_type": "code",
   "execution_count": null,
   "id": "fb3aeaea",
   "metadata": {},
   "outputs": [],
   "source": [
    "#練習三#\n",
    "# str\n",
    "string_list=[\"被告闖紅燈\",\"原告闖紅燈\",\"被告原告闖紅燈\"]\n",
    "event=input(\"請輸入案件\")\n",
    "if event==(\"被告闖紅燈\"):\n",
    "    print(\"被告判賠100％\")\n",
    "elif event==(\"原告闖紅燈\"):\n",
    "    print(\"原告多被告少\")\n",
    "elif event==(\"被告原告闖紅燈\"):\n",
    "    print(\"被告原告各50％\")\n",
    "else:\n",
    "    print(\"請輸入有效字句\")\n",
    "    "
   ]
  },
  {
   "cell_type": "code",
   "execution_count": null,
   "id": "b805edb5",
   "metadata": {},
   "outputs": [],
   "source": []
  },
  {
   "cell_type": "code",
   "execution_count": null,
   "id": "35645ccd",
   "metadata": {},
   "outputs": [],
   "source": []
  }
 ],
 "metadata": {
  "kernelspec": {
   "display_name": "Python 3 (ipykernel)",
   "language": "python",
   "name": "python3"
  },
  "language_info": {
   "codemirror_mode": {
    "name": "ipython",
    "version": 3
   },
   "file_extension": ".py",
   "mimetype": "text/x-python",
   "name": "python",
   "nbconvert_exporter": "python",
   "pygments_lexer": "ipython3",
   "version": "3.9.12"
  }
 },
 "nbformat": 4,
 "nbformat_minor": 5
}
