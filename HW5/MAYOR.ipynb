{
 "cells": [
  {
   "cell_type": "code",
   "execution_count": 3,
   "id": "679b654d",
   "metadata": {},
   "outputs": [],
   "source": [
    "import jieba\n",
    "import jieba.analyse\n",
    "import pandas as pd\n",
    "import numpy\n",
    "from collections import Counter"
   ]
  },
  {
   "cell_type": "code",
   "execution_count": 4,
   "id": "fc30e7ac",
   "metadata": {
    "scrolled": false
   },
   "outputs": [],
   "source": [
    "orgdata = pd.read_csv('市長辯論.csv')\n"
   ]
  },
  {
   "cell_type": "code",
   "execution_count": 5,
   "id": "9386afd8",
   "metadata": {
    "scrolled": false
   },
   "outputs": [
    {
     "data": {
      "text/html": [
       "<div>\n",
       "<style scoped>\n",
       "    .dataframe tbody tr th:only-of-type {\n",
       "        vertical-align: middle;\n",
       "    }\n",
       "\n",
       "    .dataframe tbody tr th {\n",
       "        vertical-align: top;\n",
       "    }\n",
       "\n",
       "    .dataframe thead th {\n",
       "        text-align: right;\n",
       "    }\n",
       "</style>\n",
       "<table border=\"1\" class=\"dataframe\">\n",
       "  <thead>\n",
       "    <tr style=\"text-align: right;\">\n",
       "      <th></th>\n",
       "      <th>時間</th>\n",
       "      <th>內容</th>\n",
       "      <th>人物</th>\n",
       "      <th>標題</th>\n",
       "    </tr>\n",
       "  </thead>\n",
       "  <tbody>\n",
       "    <tr>\n",
       "      <th>0</th>\n",
       "      <td>12:33</td>\n",
       "      <td>民進黨籍台北市長候選人陳時中上午10時在臉書發布祈福照片，希望討喜的紅色讓自己開運必勝。他也...</td>\n",
       "      <td>陳時中</td>\n",
       "      <td>陳時中辯論會前為自己祈福</td>\n",
       "    </tr>\n",
       "    <tr>\n",
       "      <th>1</th>\n",
       "      <td>12:41</td>\n",
       "      <td>國民黨籍台北市長候選人蔣萬安近中午12時在臉書貼文表示，下午2時的電視辯論會，相信各陣營都做...</td>\n",
       "      <td>蔣萬安</td>\n",
       "      <td>蔣萬安辯論會前向市民發表報告</td>\n",
       "    </tr>\n",
       "    <tr>\n",
       "      <th>2</th>\n",
       "      <td>12:48</td>\n",
       "      <td>辯論會前，無黨籍台北市長候選人黃珊珊在臉書貼文表示，直球對決、就在今天，走過24年的歷練，「...</td>\n",
       "      <td>黃珊珊</td>\n",
       "      <td>黃珊珊辯論會前強調「我準備好了」</td>\n",
       "    </tr>\n",
       "    <tr>\n",
       "      <th>3</th>\n",
       "      <td>13:02</td>\n",
       "      <td>下午1時民眾黨台北市長候選人黃珊珊率先進到辯論會會場，並接受媒體聯訪表示，沒有特別緊張的感覺...</td>\n",
       "      <td>黃珊珊</td>\n",
       "      <td>一襲白衣進場 黃珊珊：心情跟平常去議會差不多</td>\n",
       "    </tr>\n",
       "    <tr>\n",
       "      <th>4</th>\n",
       "      <td>13:20</td>\n",
       "      <td>蔣萬安穿著選戰期間一貫的藍色西裝，但換上太太特別準備的領帶，認為看起來比較有精神。對於辯論會...</td>\n",
       "      <td>蔣萬安</td>\n",
       "      <td>配戴太太準備的領帶 蔣萬安：選戰回到公共議題討論</td>\n",
       "    </tr>\n",
       "  </tbody>\n",
       "</table>\n",
       "</div>"
      ],
      "text/plain": [
       "      時間                                                 內容   人物  \\\n",
       "0  12:33  民進黨籍台北市長候選人陳時中上午10時在臉書發布祈福照片，希望討喜的紅色讓自己開運必勝。他也...  陳時中   \n",
       "1  12:41  國民黨籍台北市長候選人蔣萬安近中午12時在臉書貼文表示，下午2時的電視辯論會，相信各陣營都做...  蔣萬安   \n",
       "2  12:48  辯論會前，無黨籍台北市長候選人黃珊珊在臉書貼文表示，直球對決、就在今天，走過24年的歷練，「...  黃珊珊   \n",
       "3  13:02  下午1時民眾黨台北市長候選人黃珊珊率先進到辯論會會場，並接受媒體聯訪表示，沒有特別緊張的感覺...  黃珊珊   \n",
       "4  13:20  蔣萬安穿著選戰期間一貫的藍色西裝，但換上太太特別準備的領帶，認為看起來比較有精神。對於辯論會...  蔣萬安   \n",
       "\n",
       "                         標題  \n",
       "0              陳時中辯論會前為自己祈福  \n",
       "1            蔣萬安辯論會前向市民發表報告  \n",
       "2          黃珊珊辯論會前強調「我準備好了」  \n",
       "3    一襲白衣進場 黃珊珊：心情跟平常去議會差不多  \n",
       "4  配戴太太準備的領帶 蔣萬安：選戰回到公共議題討論  "
      ]
     },
     "execution_count": 5,
     "metadata": {},
     "output_type": "execute_result"
    }
   ],
   "source": [
    "orgdata.head()"
   ]
  },
  {
   "cell_type": "code",
   "execution_count": 6,
   "id": "fee0d6a0",
   "metadata": {
    "scrolled": false
   },
   "outputs": [
    {
     "data": {
      "text/html": [
       "<div>\n",
       "<style scoped>\n",
       "    .dataframe tbody tr th:only-of-type {\n",
       "        vertical-align: middle;\n",
       "    }\n",
       "\n",
       "    .dataframe tbody tr th {\n",
       "        vertical-align: top;\n",
       "    }\n",
       "\n",
       "    .dataframe thead th {\n",
       "        text-align: right;\n",
       "    }\n",
       "</style>\n",
       "<table border=\"1\" class=\"dataframe\">\n",
       "  <thead>\n",
       "    <tr style=\"text-align: right;\">\n",
       "      <th></th>\n",
       "      <th>時間</th>\n",
       "      <th>內容</th>\n",
       "      <th>人物</th>\n",
       "      <th>標題</th>\n",
       "      <th>seg</th>\n",
       "    </tr>\n",
       "  </thead>\n",
       "  <tbody>\n",
       "    <tr>\n",
       "      <th>0</th>\n",
       "      <td>12:33</td>\n",
       "      <td>民進黨籍台北市長候選人陳時中上午10時在臉書發布祈福照片，希望討喜的紅色讓自己開運必勝。他也...</td>\n",
       "      <td>陳時中</td>\n",
       "      <td>陳時中辯論會前為自己祈福</td>\n",
       "      <td></td>\n",
       "    </tr>\n",
       "    <tr>\n",
       "      <th>1</th>\n",
       "      <td>12:41</td>\n",
       "      <td>國民黨籍台北市長候選人蔣萬安近中午12時在臉書貼文表示，下午2時的電視辯論會，相信各陣營都做...</td>\n",
       "      <td>蔣萬安</td>\n",
       "      <td>蔣萬安辯論會前向市民發表報告</td>\n",
       "      <td></td>\n",
       "    </tr>\n",
       "    <tr>\n",
       "      <th>2</th>\n",
       "      <td>12:48</td>\n",
       "      <td>辯論會前，無黨籍台北市長候選人黃珊珊在臉書貼文表示，直球對決、就在今天，走過24年的歷練，「...</td>\n",
       "      <td>黃珊珊</td>\n",
       "      <td>黃珊珊辯論會前強調「我準備好了」</td>\n",
       "      <td></td>\n",
       "    </tr>\n",
       "    <tr>\n",
       "      <th>3</th>\n",
       "      <td>13:02</td>\n",
       "      <td>下午1時民眾黨台北市長候選人黃珊珊率先進到辯論會會場，並接受媒體聯訪表示，沒有特別緊張的感覺...</td>\n",
       "      <td>黃珊珊</td>\n",
       "      <td>一襲白衣進場 黃珊珊：心情跟平常去議會差不多</td>\n",
       "      <td></td>\n",
       "    </tr>\n",
       "    <tr>\n",
       "      <th>4</th>\n",
       "      <td>13:20</td>\n",
       "      <td>蔣萬安穿著選戰期間一貫的藍色西裝，但換上太太特別準備的領帶，認為看起來比較有精神。對於辯論會...</td>\n",
       "      <td>蔣萬安</td>\n",
       "      <td>配戴太太準備的領帶 蔣萬安：選戰回到公共議題討論</td>\n",
       "      <td></td>\n",
       "    </tr>\n",
       "  </tbody>\n",
       "</table>\n",
       "</div>"
      ],
      "text/plain": [
       "      時間                                                 內容   人物  \\\n",
       "0  12:33  民進黨籍台北市長候選人陳時中上午10時在臉書發布祈福照片，希望討喜的紅色讓自己開運必勝。他也...  陳時中   \n",
       "1  12:41  國民黨籍台北市長候選人蔣萬安近中午12時在臉書貼文表示，下午2時的電視辯論會，相信各陣營都做...  蔣萬安   \n",
       "2  12:48  辯論會前，無黨籍台北市長候選人黃珊珊在臉書貼文表示，直球對決、就在今天，走過24年的歷練，「...  黃珊珊   \n",
       "3  13:02  下午1時民眾黨台北市長候選人黃珊珊率先進到辯論會會場，並接受媒體聯訪表示，沒有特別緊張的感覺...  黃珊珊   \n",
       "4  13:20  蔣萬安穿著選戰期間一貫的藍色西裝，但換上太太特別準備的領帶，認為看起來比較有精神。對於辯論會...  蔣萬安   \n",
       "\n",
       "                         標題 seg  \n",
       "0              陳時中辯論會前為自己祈福      \n",
       "1            蔣萬安辯論會前向市民發表報告      \n",
       "2          黃珊珊辯論會前強調「我準備好了」      \n",
       "3    一襲白衣進場 黃珊珊：心情跟平常去議會差不多      \n",
       "4  配戴太太準備的領帶 蔣萬安：選戰回到公共議題討論      "
      ]
     },
     "execution_count": 6,
     "metadata": {},
     "output_type": "execute_result"
    }
   ],
   "source": [
    "orgdata['seg'] = \"\"\n",
    "orgdata.head()"
   ]
  },
  {
   "cell_type": "code",
   "execution_count": 7,
   "id": "d08b2d67",
   "metadata": {
    "scrolled": true
   },
   "outputs": [
    {
     "name": "stderr",
     "output_type": "stream",
     "text": [
      "Building prefix dict from the default dictionary ...\n",
      "Loading model from cache C:\\Users\\USER\\AppData\\Local\\Temp\\jieba.cache\n",
      "Loading model cost 0.569 seconds.\n",
      "Prefix dict has been built successfully.\n"
     ]
    }
   ],
   "source": [
    "jieba.analyse.set_stop_words('noward.txt')\n",
    "index = 0\n",
    "for documents in orgdata['內容']:\n",
    "    seg_list = jieba.analyse.extract_tags(documents, 15000)\n",
    "    #seg_list = jieba.lcut(documents)\n",
    "    orgdata['seg'].iloc[index] = seg_list\n",
    "    index += 1"
   ]
  },
  {
   "cell_type": "code",
   "execution_count": 8,
   "id": "0939df09",
   "metadata": {
    "scrolled": false
   },
   "outputs": [
    {
     "data": {
      "text/plain": [
       "0     [民進, 黨籍, 候選人, 10, 臉書, 發布, 討喜, 紅色, 開運, 必勝, 電視, ...\n",
       "1     [台北市, 台北, 市民, 國民黨籍, 候選人, 蔣萬安近, 12, 臉書, 貼文, 電視,...\n",
       "2     [辯論, 無黨籍, 候選人, 臉書, 貼文, 直球, 對決, 走過, 24, 歷練, 準備,...\n",
       "3     [辯論會, 率先, 時民眾, 候選人, 進到, 辯論, 會會場, 媒體, 聯訪, 沒有, 特...\n",
       "4     [選戰, 穿著, 蔣萬安, 期間, 一貫, 藍色, 西裝, 但換, 特別, 準備, 領帶, ...\n",
       "5     [辯論, 審查, 民意代表, 進場, 候選人, 西裝, 前進, 18, 徵和年, 輕人, 談...\n",
       "6     [蔣萬安, 萬元, 台北, 無論, 市長, 目標, 新命脈, 將連結, 內湖, 園區, 機會...\n",
       "7     [什麼, 採購, 疫苗, 蔣萬安向, 11, 沒有, 會議, 記錄, 合約, 30, 民間,...\n",
       "8     [30, 台灣, 令人困惑, 中先, 回應, 蔣萬安, 提問, 裝睡, 當市, 問題問, 次...\n",
       "9     [社會, 應該, 面對, 台灣, 歷史, 笑容, 市民, 幾日, 國片, 流麻溝, 15, ...\n",
       "10    [台北市, 兩位, 戰力, 廉能, 人口老化, 不切, 進步, 說法, 里長, 議員, 並回...\n",
       "11    [巨蛋, 遠雄, 柯文, 弊案, 英九, 市長, 國民黨, 已經, 營運, 標準, 取回, ...\n",
       "12    [補助, 公室, 提問, 化國, 中擔, 任部長, 化辦, 只開, 7.91, 億元, 蔣萬...\n",
       "13    [台北市, 溝通, 人口, 否決, 全國, 重點, 中央, 除籍, 居住, 不行, 蔣萬安,...\n",
       "14    [問題, 台北市, 未來, 應該, 台北, 台電, 電力, 電器, 中央, 立委, 做好, ...\n",
       "15    [車子, 水門, 認為, 內湖, 機場, 車流, 招標, 交通, 松山, 蔣萬安, 提問, ...\n",
       "16    [藍綠, 棄保, 市長, 國民黨, 民眾, 顏色, 討論, 改變, 超越, 柯文, 巨蛋, ...\n",
       "17    [社宅, 社會, 輕人, 興建, 住宅, 跳票, 包租, 代管, 台北市, 台北, 房價, ...\n",
       "18    [台灣, 中華民國, 當然, 主權, 民主自由, 面對, 捍衛, 未來, 首都, 中國統, ...\n",
       "19    [藍綠, 當選, 市長, 兩黨, 第二天, 感謝, 水門, SOP, 蔣萬安說, 應該, 這...\n",
       "20    [立委, 台北, 市民, 用家, 蔣萬安, 經驗, 出發, 矽谷, 律師, 三個, 性始, ...\n",
       "21    [痕跡, 說聲, 沒有, 採購, 疫苗, 全世界, 結論, 灣是, 中舉, 職棒賽, 國家,...\n",
       "22    [已經, 交給, 台北市, 遺憾, 兩位候, 選人實, 問虛答, 電問題, 現在, 進行式,...\n",
       "23    [辯論, 中感, 謝團隊, 幫忙, 會表現, 穩定, 想講, 已經, 盡力, 表現, 分數,...\n",
       "24    [團隊, 市民, 蔣萬安, 高興能, 參與, 辯論會, 談談, 願景, 選舉, 主軸回, 議...\n",
       "Name: seg, dtype: object"
      ]
     },
     "execution_count": 8,
     "metadata": {},
     "output_type": "execute_result"
    }
   ],
   "source": [
    "orgdata['seg']"
   ]
  },
  {
   "cell_type": "code",
   "execution_count": 9,
   "id": "61e2d625",
   "metadata": {},
   "outputs": [],
   "source": [
    "date_split = orgdata['時間'].iloc[0].split('.')"
   ]
  },
  {
   "cell_type": "code",
   "execution_count": 10,
   "id": "a5db208b",
   "metadata": {},
   "outputs": [
    {
     "data": {
      "text/plain": [
       "'12:33'"
      ]
     },
     "execution_count": 10,
     "metadata": {},
     "output_type": "execute_result"
    }
   ],
   "source": [
    "date_split[0]"
   ]
  },
  {
   "cell_type": "code",
   "execution_count": 12,
   "id": "9034eed4",
   "metadata": {},
   "outputs": [],
   "source": [
    "orgdata['TIME'] = \"\"\n",
    "index = 0\n",
    "for documents in orgdata['時間']:\n",
    "    date_split = documents.split('.')\n",
    "    orgdata['TIME'].iloc[index] = date_split[0]\n",
    "    index += 1"
   ]
  },
  {
   "cell_type": "code",
   "execution_count": 13,
   "id": "e7585542",
   "metadata": {},
   "outputs": [
    {
     "data": {
      "text/html": [
       "<div>\n",
       "<style scoped>\n",
       "    .dataframe tbody tr th:only-of-type {\n",
       "        vertical-align: middle;\n",
       "    }\n",
       "\n",
       "    .dataframe tbody tr th {\n",
       "        vertical-align: top;\n",
       "    }\n",
       "\n",
       "    .dataframe thead th {\n",
       "        text-align: right;\n",
       "    }\n",
       "</style>\n",
       "<table border=\"1\" class=\"dataframe\">\n",
       "  <thead>\n",
       "    <tr style=\"text-align: right;\">\n",
       "      <th></th>\n",
       "      <th>時間</th>\n",
       "      <th>內容</th>\n",
       "      <th>人物</th>\n",
       "      <th>標題</th>\n",
       "      <th>seg</th>\n",
       "      <th>TIME</th>\n",
       "    </tr>\n",
       "  </thead>\n",
       "  <tbody>\n",
       "    <tr>\n",
       "      <th>0</th>\n",
       "      <td>12:33</td>\n",
       "      <td>民進黨籍台北市長候選人陳時中上午10時在臉書發布祈福照片，希望討喜的紅色讓自己開運必勝。他也...</td>\n",
       "      <td>陳時中</td>\n",
       "      <td>陳時中辯論會前為自己祈福</td>\n",
       "      <td>[民進, 黨籍, 候選人, 10, 臉書, 發布, 討喜, 紅色, 開運, 必勝, 電視, ...</td>\n",
       "      <td>12:33</td>\n",
       "    </tr>\n",
       "    <tr>\n",
       "      <th>1</th>\n",
       "      <td>12:41</td>\n",
       "      <td>國民黨籍台北市長候選人蔣萬安近中午12時在臉書貼文表示，下午2時的電視辯論會，相信各陣營都做...</td>\n",
       "      <td>蔣萬安</td>\n",
       "      <td>蔣萬安辯論會前向市民發表報告</td>\n",
       "      <td>[台北市, 台北, 市民, 國民黨籍, 候選人, 蔣萬安近, 12, 臉書, 貼文, 電視,...</td>\n",
       "      <td>12:41</td>\n",
       "    </tr>\n",
       "    <tr>\n",
       "      <th>2</th>\n",
       "      <td>12:48</td>\n",
       "      <td>辯論會前，無黨籍台北市長候選人黃珊珊在臉書貼文表示，直球對決、就在今天，走過24年的歷練，「...</td>\n",
       "      <td>黃珊珊</td>\n",
       "      <td>黃珊珊辯論會前強調「我準備好了」</td>\n",
       "      <td>[辯論, 無黨籍, 候選人, 臉書, 貼文, 直球, 對決, 走過, 24, 歷練, 準備,...</td>\n",
       "      <td>12:48</td>\n",
       "    </tr>\n",
       "    <tr>\n",
       "      <th>3</th>\n",
       "      <td>13:02</td>\n",
       "      <td>下午1時民眾黨台北市長候選人黃珊珊率先進到辯論會會場，並接受媒體聯訪表示，沒有特別緊張的感覺...</td>\n",
       "      <td>黃珊珊</td>\n",
       "      <td>一襲白衣進場 黃珊珊：心情跟平常去議會差不多</td>\n",
       "      <td>[辯論會, 率先, 時民眾, 候選人, 進到, 辯論, 會會場, 媒體, 聯訪, 沒有, 特...</td>\n",
       "      <td>13:02</td>\n",
       "    </tr>\n",
       "    <tr>\n",
       "      <th>4</th>\n",
       "      <td>13:20</td>\n",
       "      <td>蔣萬安穿著選戰期間一貫的藍色西裝，但換上太太特別準備的領帶，認為看起來比較有精神。對於辯論會...</td>\n",
       "      <td>蔣萬安</td>\n",
       "      <td>配戴太太準備的領帶 蔣萬安：選戰回到公共議題討論</td>\n",
       "      <td>[選戰, 穿著, 蔣萬安, 期間, 一貫, 藍色, 西裝, 但換, 特別, 準備, 領帶, ...</td>\n",
       "      <td>13:20</td>\n",
       "    </tr>\n",
       "  </tbody>\n",
       "</table>\n",
       "</div>"
      ],
      "text/plain": [
       "      時間                                                 內容   人物  \\\n",
       "0  12:33  民進黨籍台北市長候選人陳時中上午10時在臉書發布祈福照片，希望討喜的紅色讓自己開運必勝。他也...  陳時中   \n",
       "1  12:41  國民黨籍台北市長候選人蔣萬安近中午12時在臉書貼文表示，下午2時的電視辯論會，相信各陣營都做...  蔣萬安   \n",
       "2  12:48  辯論會前，無黨籍台北市長候選人黃珊珊在臉書貼文表示，直球對決、就在今天，走過24年的歷練，「...  黃珊珊   \n",
       "3  13:02  下午1時民眾黨台北市長候選人黃珊珊率先進到辯論會會場，並接受媒體聯訪表示，沒有特別緊張的感覺...  黃珊珊   \n",
       "4  13:20  蔣萬安穿著選戰期間一貫的藍色西裝，但換上太太特別準備的領帶，認為看起來比較有精神。對於辯論會...  蔣萬安   \n",
       "\n",
       "                         標題  \\\n",
       "0              陳時中辯論會前為自己祈福   \n",
       "1            蔣萬安辯論會前向市民發表報告   \n",
       "2          黃珊珊辯論會前強調「我準備好了」   \n",
       "3    一襲白衣進場 黃珊珊：心情跟平常去議會差不多   \n",
       "4  配戴太太準備的領帶 蔣萬安：選戰回到公共議題討論   \n",
       "\n",
       "                                                 seg   TIME  \n",
       "0  [民進, 黨籍, 候選人, 10, 臉書, 發布, 討喜, 紅色, 開運, 必勝, 電視, ...  12:33  \n",
       "1  [台北市, 台北, 市民, 國民黨籍, 候選人, 蔣萬安近, 12, 臉書, 貼文, 電視,...  12:41  \n",
       "2  [辯論, 無黨籍, 候選人, 臉書, 貼文, 直球, 對決, 走過, 24, 歷練, 準備,...  12:48  \n",
       "3  [辯論會, 率先, 時民眾, 候選人, 進到, 辯論, 會會場, 媒體, 聯訪, 沒有, 特...  13:02  \n",
       "4  [選戰, 穿著, 蔣萬安, 期間, 一貫, 藍色, 西裝, 但換, 特別, 準備, 領帶, ...  13:20  "
      ]
     },
     "execution_count": 13,
     "metadata": {},
     "output_type": "execute_result"
    }
   ],
   "source": [
    "orgdata.head()"
   ]
  },
  {
   "cell_type": "code",
   "execution_count": 14,
   "id": "0a662cdc",
   "metadata": {},
   "outputs": [],
   "source": [
    "orgdata.to_csv(\"誰會當選.csv\", index=False)"
   ]
  },
  {
   "cell_type": "code",
   "execution_count": 15,
   "id": "9687925e",
   "metadata": {},
   "outputs": [
    {
     "data": {
      "text/plain": [
       "dict_keys(['12:33', '12:41', '12:48', '13:02', '13:20', '13:29', '14:09', '14:16', '14:21', '14:28', '14:35', '14:36', '15:01', '15:15', '15:21', '15:26', '15:30', '15:35', '15:45', '16:00', '16:05', '16:10', '16:20', '16:22', '16:26'])"
      ]
     },
     "execution_count": 15,
     "metadata": {},
     "output_type": "execute_result"
    }
   ],
   "source": [
    "Counter(orgdata['TIME']).keys()"
   ]
  },
  {
   "cell_type": "code",
   "execution_count": 19,
   "id": "e2c9eb45",
   "metadata": {},
   "outputs": [],
   "source": [
    "words = list(orgdata['人物'])\n",
    "show_key = pd.DataFrame(Counter(words).keys())\n",
    "show_values = pd.DataFrame(Counter(words).values())"
   ]
  },
  {
   "cell_type": "code",
   "execution_count": 20,
   "id": "6b5792da",
   "metadata": {},
   "outputs": [],
   "source": [
    "df = [show_key, show_values]"
   ]
  },
  {
   "cell_type": "code",
   "execution_count": 21,
   "id": "9725ed18",
   "metadata": {},
   "outputs": [
    {
     "data": {
      "text/html": [
       "<div>\n",
       "<style scoped>\n",
       "    .dataframe tbody tr th:only-of-type {\n",
       "        vertical-align: middle;\n",
       "    }\n",
       "\n",
       "    .dataframe tbody tr th {\n",
       "        vertical-align: top;\n",
       "    }\n",
       "\n",
       "    .dataframe thead th {\n",
       "        text-align: right;\n",
       "    }\n",
       "</style>\n",
       "<table border=\"1\" class=\"dataframe\">\n",
       "  <thead>\n",
       "    <tr style=\"text-align: right;\">\n",
       "      <th></th>\n",
       "      <th>人物</th>\n",
       "      <th>次數</th>\n",
       "    </tr>\n",
       "  </thead>\n",
       "  <tbody>\n",
       "    <tr>\n",
       "      <th>0</th>\n",
       "      <td>陳時中</td>\n",
       "      <td>6</td>\n",
       "    </tr>\n",
       "    <tr>\n",
       "      <th>1</th>\n",
       "      <td>蔣萬安</td>\n",
       "      <td>6</td>\n",
       "    </tr>\n",
       "    <tr>\n",
       "      <th>2</th>\n",
       "      <td>黃珊珊</td>\n",
       "      <td>5</td>\n",
       "    </tr>\n",
       "    <tr>\n",
       "      <th>3</th>\n",
       "      <td>ALL</td>\n",
       "      <td>8</td>\n",
       "    </tr>\n",
       "  </tbody>\n",
       "</table>\n",
       "</div>"
      ],
      "text/plain": [
       "    人物  次數\n",
       "0  陳時中   6\n",
       "1  蔣萬安   6\n",
       "2  黃珊珊   5\n",
       "3  ALL   8"
      ]
     },
     "execution_count": 21,
     "metadata": {},
     "output_type": "execute_result"
    }
   ],
   "source": [
    "result = pd.concat(df, axis=1)\n",
    "result.columns = ['人物', '次數']\n",
    "result"
   ]
  },
  {
   "cell_type": "code",
   "execution_count": 22,
   "id": "b459bf6d",
   "metadata": {},
   "outputs": [],
   "source": [
    "import plotly.express as px\n",
    "import pandas as pd"
   ]
  },
  {
   "cell_type": "code",
   "execution_count": 23,
   "id": "17142f5e",
   "metadata": {},
   "outputs": [
    {
     "data": {
      "text/html": [
       "<div>\n",
       "<style scoped>\n",
       "    .dataframe tbody tr th:only-of-type {\n",
       "        vertical-align: middle;\n",
       "    }\n",
       "\n",
       "    .dataframe tbody tr th {\n",
       "        vertical-align: top;\n",
       "    }\n",
       "\n",
       "    .dataframe thead th {\n",
       "        text-align: right;\n",
       "    }\n",
       "</style>\n",
       "<table border=\"1\" class=\"dataframe\">\n",
       "  <thead>\n",
       "    <tr style=\"text-align: right;\">\n",
       "      <th></th>\n",
       "      <th>時間</th>\n",
       "      <th>內容</th>\n",
       "      <th>人物</th>\n",
       "      <th>標題</th>\n",
       "      <th>seg</th>\n",
       "      <th>TIME</th>\n",
       "    </tr>\n",
       "  </thead>\n",
       "  <tbody>\n",
       "    <tr>\n",
       "      <th>2</th>\n",
       "      <td>12:48</td>\n",
       "      <td>辯論會前，無黨籍台北市長候選人黃珊珊在臉書貼文表示，直球對決、就在今天，走過24年的歷練，「...</td>\n",
       "      <td>黃珊珊</td>\n",
       "      <td>黃珊珊辯論會前強調「我準備好了」</td>\n",
       "      <td>[辯論, 無黨籍, 候選人, 臉書, 貼文, 直球, 對決, 走過, 24, 歷練, 準備,...</td>\n",
       "      <td>12:48</td>\n",
       "    </tr>\n",
       "    <tr>\n",
       "      <th>3</th>\n",
       "      <td>13:02</td>\n",
       "      <td>下午1時民眾黨台北市長候選人黃珊珊率先進到辯論會會場，並接受媒體聯訪表示，沒有特別緊張的感覺...</td>\n",
       "      <td>黃珊珊</td>\n",
       "      <td>一襲白衣進場 黃珊珊：心情跟平常去議會差不多</td>\n",
       "      <td>[辯論會, 率先, 時民眾, 候選人, 進到, 辯論, 會會場, 媒體, 聯訪, 沒有, 特...</td>\n",
       "      <td>13:02</td>\n",
       "    </tr>\n",
       "    <tr>\n",
       "      <th>10</th>\n",
       "      <td>14:35</td>\n",
       "      <td>黃珊珊表示，台北這8年進步有目共睹、不容抹煞，兩位說法好像在否定台北市里長及議員和市民8年的...</td>\n",
       "      <td>黃珊珊</td>\n",
       "      <td>黃珊珊申論抨對手政策不可行 新市長需要即戰力</td>\n",
       "      <td>[台北市, 兩位, 戰力, 廉能, 人口老化, 不切, 進步, 說法, 里長, 議員, 並回...</td>\n",
       "      <td>14:35</td>\n",
       "    </tr>\n",
       "    <tr>\n",
       "      <th>19</th>\n",
       "      <td>16:00</td>\n",
       "      <td>黃珊珊首先指出，感謝陳時中肯定水門要有SOP，以及蔣萬安說應該不分藍綠，這些都是我們台北市政...</td>\n",
       "      <td>黃珊珊</td>\n",
       "      <td>黃珊珊結論：非藍非綠 這是一場價值選擇</td>\n",
       "      <td>[藍綠, 當選, 市長, 兩黨, 第二天, 感謝, 水門, SOP, 蔣萬安說, 應該, 這...</td>\n",
       "      <td>16:00</td>\n",
       "    </tr>\n",
       "    <tr>\n",
       "      <th>22</th>\n",
       "      <td>16:20</td>\n",
       "      <td>黃珊珊先表示，遺憾其他兩位候選人實問虛答，例如台北市電問題是現在進行式，沒有具體回答。許多提...</td>\n",
       "      <td>黃珊珊</td>\n",
       "      <td>黃珊珊會後記者會：遺憾實問虛答</td>\n",
       "      <td>[已經, 交給, 台北市, 遺憾, 兩位候, 選人實, 問虛答, 電問題, 現在, 進行式,...</td>\n",
       "      <td>16:20</td>\n",
       "    </tr>\n",
       "  </tbody>\n",
       "</table>\n",
       "</div>"
      ],
      "text/plain": [
       "       時間                                                 內容   人物  \\\n",
       "2   12:48  辯論會前，無黨籍台北市長候選人黃珊珊在臉書貼文表示，直球對決、就在今天，走過24年的歷練，「...  黃珊珊   \n",
       "3   13:02  下午1時民眾黨台北市長候選人黃珊珊率先進到辯論會會場，並接受媒體聯訪表示，沒有特別緊張的感覺...  黃珊珊   \n",
       "10  14:35  黃珊珊表示，台北這8年進步有目共睹、不容抹煞，兩位說法好像在否定台北市里長及議員和市民8年的...  黃珊珊   \n",
       "19  16:00  黃珊珊首先指出，感謝陳時中肯定水門要有SOP，以及蔣萬安說應該不分藍綠，這些都是我們台北市政...  黃珊珊   \n",
       "22  16:20  黃珊珊先表示，遺憾其他兩位候選人實問虛答，例如台北市電問題是現在進行式，沒有具體回答。許多提...  黃珊珊   \n",
       "\n",
       "                        標題                                                seg  \\\n",
       "2         黃珊珊辯論會前強調「我準備好了」  [辯論, 無黨籍, 候選人, 臉書, 貼文, 直球, 對決, 走過, 24, 歷練, 準備,...   \n",
       "3   一襲白衣進場 黃珊珊：心情跟平常去議會差不多  [辯論會, 率先, 時民眾, 候選人, 進到, 辯論, 會會場, 媒體, 聯訪, 沒有, 特...   \n",
       "10  黃珊珊申論抨對手政策不可行 新市長需要即戰力  [台北市, 兩位, 戰力, 廉能, 人口老化, 不切, 進步, 說法, 里長, 議員, 並回...   \n",
       "19     黃珊珊結論：非藍非綠 這是一場價值選擇  [藍綠, 當選, 市長, 兩黨, 第二天, 感謝, 水門, SOP, 蔣萬安說, 應該, 這...   \n",
       "22         黃珊珊會後記者會：遺憾實問虛答  [已經, 交給, 台北市, 遺憾, 兩位候, 選人實, 問虛答, 電問題, 現在, 進行式,...   \n",
       "\n",
       "     TIME  \n",
       "2   12:48  \n",
       "3   13:02  \n",
       "10  14:35  \n",
       "19  16:00  \n",
       "22  16:20  "
      ]
     },
     "execution_count": 23,
     "metadata": {},
     "output_type": "execute_result"
    }
   ],
   "source": [
    "show_sub = orgdata['人物']=='黃珊珊'\n",
    "subdata = orgdata[show_sub]\n",
    "subdata"
   ]
  },
  {
   "cell_type": "code",
   "execution_count": 24,
   "id": "192b24f0",
   "metadata": {},
   "outputs": [
    {
     "data": {
      "text/plain": [
       "pandas.core.series.Series"
      ]
     },
     "execution_count": 24,
     "metadata": {},
     "output_type": "execute_result"
    }
   ],
   "source": [
    "type(subdata['seg'])"
   ]
  },
  {
   "cell_type": "code",
   "execution_count": null,
   "id": "3c95a8bc",
   "metadata": {},
   "outputs": [],
   "source": [
    "jieba.load_userdict('./userdict.txt')\n",
    "\n",
    "for sentence in documents:\n",
    "    seg_list = jieba.cut(sentence)\n",
    "    print('/'.join(seg_list))"
   ]
  }
 ],
 "metadata": {
  "kernelspec": {
   "display_name": "Python 3 (ipykernel)",
   "language": "python",
   "name": "python3"
  },
  "language_info": {
   "codemirror_mode": {
    "name": "ipython",
    "version": 3
   },
   "file_extension": ".py",
   "mimetype": "text/x-python",
   "name": "python",
   "nbconvert_exporter": "python",
   "pygments_lexer": "ipython3",
   "version": "3.9.12"
  }
 },
 "nbformat": 4,
 "nbformat_minor": 5
}
