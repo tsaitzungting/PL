{
 "cells": [
  {
   "cell_type": "code",
   "execution_count": 1,
   "id": "4022182d",
   "metadata": {},
   "outputs": [],
   "source": [
    "import jieba\n",
    "import jieba.analyse\n",
    "import pandas as pd\n",
    "import numpy\n",
    "from collections import Counter"
   ]
  },
  {
   "cell_type": "code",
   "execution_count": 16,
   "id": "630352c7",
   "metadata": {
    "scrolled": true
   },
   "outputs": [
    {
     "name": "stdout",
     "output_type": "stream",
     "text": [
      "我/是/一個/來/自/水星/的/原住民/，/水星/上面/有/很多/闢利/閃電無敵/可愛的/水母/水/中游/來游/去\n"
     ]
    }
   ],
   "source": [
    "documents = ['我是一個來自水星的原住民，水星上面有很多闢利閃電無敵可愛的水母水中游來游去']\n",
    "# 精確模式\n",
    "for sentence in documents:\n",
    "    seg_list = jieba.cut(sentence)\n",
    "    print('/'.join(seg_list))"
   ]
  },
  {
   "cell_type": "code",
   "execution_count": 18,
   "id": "3abf6a33",
   "metadata": {
    "scrolled": true
   },
   "outputs": [
    {
     "name": "stdout",
     "output_type": "stream",
     "text": [
      "我/是/一個/來/自/水星/的/原住民/，/水星/上面/有/很多/闢利閃電無敵可愛/的/水母/水中/游來游去\n"
     ]
    }
   ],
   "source": [
    "jieba.load_userdict('./userdict.txt')\n",
    "\n",
    "for sentence in documents:\n",
    "    seg_list = jieba.cut(sentence)\n",
    "    print('/'.join(seg_list))"
   ]
  },
  {
   "cell_type": "code",
   "execution_count": 19,
   "id": "c1116fe6",
   "metadata": {},
   "outputs": [],
   "source": [
    "orgdata = pd.read_csv('我想睡覺了.csv')"
   ]
  },
  {
   "cell_type": "code",
   "execution_count": 20,
   "id": "d1d59da9",
   "metadata": {
    "scrolled": true
   },
   "outputs": [
    {
     "data": {
      "text/html": [
       "<div>\n",
       "<style scoped>\n",
       "    .dataframe tbody tr th:only-of-type {\n",
       "        vertical-align: middle;\n",
       "    }\n",
       "\n",
       "    .dataframe tbody tr th {\n",
       "        vertical-align: top;\n",
       "    }\n",
       "\n",
       "    .dataframe thead th {\n",
       "        text-align: right;\n",
       "    }\n",
       "</style>\n",
       "<table border=\"1\" class=\"dataframe\">\n",
       "  <thead>\n",
       "    <tr style=\"text-align: right;\">\n",
       "      <th></th>\n",
       "      <th>Unnamed: 0</th>\n",
       "      <th>日期</th>\n",
       "      <th>案號</th>\n",
       "      <th>內文</th>\n",
       "      <th>法規</th>\n",
       "      <th>法官</th>\n",
       "      <th>裁判類型</th>\n",
       "      <th>案由</th>\n",
       "    </tr>\n",
       "  </thead>\n",
       "  <tbody>\n",
       "    <tr>\n",
       "      <th>0</th>\n",
       "      <td>0</td>\n",
       "      <td>20021129</td>\n",
       "      <td>91,易,2943</td>\n",
       "      <td>臺灣臺中地方法院刑事判決　　　　　　　　　　　　九十一年度易字第二九四三號\\n　　公　訴　人...</td>\n",
       "      <td>['中華民國刑法第38條第1項第1款', '中華民國刑法第11條', '刑事訴訟法第299條...</td>\n",
       "      <td>洪俊誠</td>\n",
       "      <td>刑事判決</td>\n",
       "      <td>違反槍砲彈藥刀械管制條例</td>\n",
       "    </tr>\n",
       "    <tr>\n",
       "      <th>1</th>\n",
       "      <td>1</td>\n",
       "      <td>20000808-279568d4-5d44-4f67-9053-41d33d651f5e</td>\n",
       "      <td>89,上易,1059</td>\n",
       "      <td>臺灣高等法院高雄分院刑事判決　　　　　　　　　八十九年度上易字第一五九號\\n　　上　訴　人...</td>\n",
       "      <td>['刑事訴訟法第368條', '刑事訴訟法第301條第1項', '刑事訴訟法第154條']</td>\n",
       "      <td>莊秋桃</td>\n",
       "      <td>刑事判決</td>\n",
       "      <td>違反槍彈藥刀械管制條例</td>\n",
       "    </tr>\n",
       "    <tr>\n",
       "      <th>2</th>\n",
       "      <td>2</td>\n",
       "      <td>20030603</td>\n",
       "      <td>92,易,1296</td>\n",
       "      <td>臺灣臺中地方法院刑事判決　　　　　　　　　　　　九十二年度易字第一二九六號\\n　　公　訴　人...</td>\n",
       "      <td>['中華民國刑法第38條第1項第1款', '中華民國刑法第11條', '刑事訴訟法第299條...</td>\n",
       "      <td>陳如玲</td>\n",
       "      <td>刑事判決</td>\n",
       "      <td>違反槍砲彈藥刀械管制條例</td>\n",
       "    </tr>\n",
       "    <tr>\n",
       "      <th>3</th>\n",
       "      <td>3</td>\n",
       "      <td>20190507</td>\n",
       "      <td>108,單禁沒,54</td>\n",
       "      <td>臺灣彰化地方法院刑事裁定　　　　　 108年度單禁沒字第54號\\n聲　請　人　臺灣彰化地方檢...</td>\n",
       "      <td>['中華民國刑法第38條第1項', '中華民國刑法第40條第2項', '刑事訴訟法第455條...</td>\n",
       "      <td>巫美蕙</td>\n",
       "      <td>刑事裁定</td>\n",
       "      <td>聲請裁定沒收違禁物</td>\n",
       "    </tr>\n",
       "    <tr>\n",
       "      <th>4</th>\n",
       "      <td>4</td>\n",
       "      <td>20030116</td>\n",
       "      <td>91,易,901</td>\n",
       "      <td>臺灣彰化地方法院刑事判決　　　　　　　　　　　　　九十一年度易字第九一號\\n　　公　訴　人...</td>\n",
       "      <td>['中華民國刑法第38條第1項第1款', '中華民國刑法第11條', '刑事訴訟法第300條...</td>\n",
       "      <td>余仕明</td>\n",
       "      <td>刑事判決</td>\n",
       "      <td>違反槍砲彈藥刀械管制條例</td>\n",
       "    </tr>\n",
       "  </tbody>\n",
       "</table>\n",
       "</div>"
      ],
      "text/plain": [
       "   Unnamed: 0                                             日期          案號  \\\n",
       "0           0                                       20021129   91,易,2943   \n",
       "1           1  20000808-279568d4-5d44-4f67-9053-41d33d651f5e  89,上易,1059   \n",
       "2           2                                       20030603   92,易,1296   \n",
       "3           3                                       20190507  108,單禁沒,54   \n",
       "4           4                                       20030116    91,易,901   \n",
       "\n",
       "                                                  內文  \\\n",
       "0  臺灣臺中地方法院刑事判決　　　　　　　　　　　　九十一年度易字第二九四三號\\n　　公　訴　人...   \n",
       "1  臺灣高等法院高雄分院刑事判決　　　　　　　　　八十九年度上易字第一五九號\\n　　上　訴　人...   \n",
       "2  臺灣臺中地方法院刑事判決　　　　　　　　　　　　九十二年度易字第一二九六號\\n　　公　訴　人...   \n",
       "3  臺灣彰化地方法院刑事裁定　　　　　 108年度單禁沒字第54號\\n聲　請　人　臺灣彰化地方檢...   \n",
       "4  臺灣彰化地方法院刑事判決　　　　　　　　　　　　　九十一年度易字第九一號\\n　　公　訴　人...   \n",
       "\n",
       "                                                  法規   法官  裁判類型            案由  \n",
       "0  ['中華民國刑法第38條第1項第1款', '中華民國刑法第11條', '刑事訴訟法第299條...  洪俊誠  刑事判決  違反槍砲彈藥刀械管制條例  \n",
       "1      ['刑事訴訟法第368條', '刑事訴訟法第301條第1項', '刑事訴訟法第154條']  莊秋桃  刑事判決  違反槍彈藥刀械管制條例  \n",
       "2  ['中華民國刑法第38條第1項第1款', '中華民國刑法第11條', '刑事訴訟法第299條...  陳如玲  刑事判決  違反槍砲彈藥刀械管制條例  \n",
       "3  ['中華民國刑法第38條第1項', '中華民國刑法第40條第2項', '刑事訴訟法第455條...  巫美蕙  刑事裁定     聲請裁定沒收違禁物  \n",
       "4  ['中華民國刑法第38條第1項第1款', '中華民國刑法第11條', '刑事訴訟法第300條...  余仕明  刑事判決  違反槍砲彈藥刀械管制條例  "
      ]
     },
     "execution_count": 20,
     "metadata": {},
     "output_type": "execute_result"
    }
   ],
   "source": [
    "orgdata.head()"
   ]
  },
  {
   "cell_type": "code",
   "execution_count": 21,
   "id": "605b07d1",
   "metadata": {
    "scrolled": true
   },
   "outputs": [
    {
     "data": {
      "text/html": [
       "<div>\n",
       "<style scoped>\n",
       "    .dataframe tbody tr th:only-of-type {\n",
       "        vertical-align: middle;\n",
       "    }\n",
       "\n",
       "    .dataframe tbody tr th {\n",
       "        vertical-align: top;\n",
       "    }\n",
       "\n",
       "    .dataframe thead th {\n",
       "        text-align: right;\n",
       "    }\n",
       "</style>\n",
       "<table border=\"1\" class=\"dataframe\">\n",
       "  <thead>\n",
       "    <tr style=\"text-align: right;\">\n",
       "      <th></th>\n",
       "      <th>Unnamed: 0</th>\n",
       "      <th>日期</th>\n",
       "      <th>案號</th>\n",
       "      <th>內文</th>\n",
       "      <th>法規</th>\n",
       "      <th>法官</th>\n",
       "      <th>裁判類型</th>\n",
       "      <th>案由</th>\n",
       "      <th>seg</th>\n",
       "    </tr>\n",
       "  </thead>\n",
       "  <tbody>\n",
       "    <tr>\n",
       "      <th>0</th>\n",
       "      <td>0</td>\n",
       "      <td>20021129</td>\n",
       "      <td>91,易,2943</td>\n",
       "      <td>臺灣臺中地方法院刑事判決　　　　　　　　　　　　九十一年度易字第二九四三號\\n　　公　訴　人...</td>\n",
       "      <td>['中華民國刑法第38條第1項第1款', '中華民國刑法第11條', '刑事訴訟法第299條...</td>\n",
       "      <td>洪俊誠</td>\n",
       "      <td>刑事判決</td>\n",
       "      <td>違反槍砲彈藥刀械管制條例</td>\n",
       "      <td></td>\n",
       "    </tr>\n",
       "    <tr>\n",
       "      <th>1</th>\n",
       "      <td>1</td>\n",
       "      <td>20000808-279568d4-5d44-4f67-9053-41d33d651f5e</td>\n",
       "      <td>89,上易,1059</td>\n",
       "      <td>臺灣高等法院高雄分院刑事判決　　　　　　　　　八十九年度上易字第一五九號\\n　　上　訴　人...</td>\n",
       "      <td>['刑事訴訟法第368條', '刑事訴訟法第301條第1項', '刑事訴訟法第154條']</td>\n",
       "      <td>莊秋桃</td>\n",
       "      <td>刑事判決</td>\n",
       "      <td>違反槍彈藥刀械管制條例</td>\n",
       "      <td></td>\n",
       "    </tr>\n",
       "    <tr>\n",
       "      <th>2</th>\n",
       "      <td>2</td>\n",
       "      <td>20030603</td>\n",
       "      <td>92,易,1296</td>\n",
       "      <td>臺灣臺中地方法院刑事判決　　　　　　　　　　　　九十二年度易字第一二九六號\\n　　公　訴　人...</td>\n",
       "      <td>['中華民國刑法第38條第1項第1款', '中華民國刑法第11條', '刑事訴訟法第299條...</td>\n",
       "      <td>陳如玲</td>\n",
       "      <td>刑事判決</td>\n",
       "      <td>違反槍砲彈藥刀械管制條例</td>\n",
       "      <td></td>\n",
       "    </tr>\n",
       "    <tr>\n",
       "      <th>3</th>\n",
       "      <td>3</td>\n",
       "      <td>20190507</td>\n",
       "      <td>108,單禁沒,54</td>\n",
       "      <td>臺灣彰化地方法院刑事裁定　　　　　 108年度單禁沒字第54號\\n聲　請　人　臺灣彰化地方檢...</td>\n",
       "      <td>['中華民國刑法第38條第1項', '中華民國刑法第40條第2項', '刑事訴訟法第455條...</td>\n",
       "      <td>巫美蕙</td>\n",
       "      <td>刑事裁定</td>\n",
       "      <td>聲請裁定沒收違禁物</td>\n",
       "      <td></td>\n",
       "    </tr>\n",
       "    <tr>\n",
       "      <th>4</th>\n",
       "      <td>4</td>\n",
       "      <td>20030116</td>\n",
       "      <td>91,易,901</td>\n",
       "      <td>臺灣彰化地方法院刑事判決　　　　　　　　　　　　　九十一年度易字第九一號\\n　　公　訴　人...</td>\n",
       "      <td>['中華民國刑法第38條第1項第1款', '中華民國刑法第11條', '刑事訴訟法第300條...</td>\n",
       "      <td>余仕明</td>\n",
       "      <td>刑事判決</td>\n",
       "      <td>違反槍砲彈藥刀械管制條例</td>\n",
       "      <td></td>\n",
       "    </tr>\n",
       "  </tbody>\n",
       "</table>\n",
       "</div>"
      ],
      "text/plain": [
       "   Unnamed: 0                                             日期          案號  \\\n",
       "0           0                                       20021129   91,易,2943   \n",
       "1           1  20000808-279568d4-5d44-4f67-9053-41d33d651f5e  89,上易,1059   \n",
       "2           2                                       20030603   92,易,1296   \n",
       "3           3                                       20190507  108,單禁沒,54   \n",
       "4           4                                       20030116    91,易,901   \n",
       "\n",
       "                                                  內文  \\\n",
       "0  臺灣臺中地方法院刑事判決　　　　　　　　　　　　九十一年度易字第二九四三號\\n　　公　訴　人...   \n",
       "1  臺灣高等法院高雄分院刑事判決　　　　　　　　　八十九年度上易字第一五九號\\n　　上　訴　人...   \n",
       "2  臺灣臺中地方法院刑事判決　　　　　　　　　　　　九十二年度易字第一二九六號\\n　　公　訴　人...   \n",
       "3  臺灣彰化地方法院刑事裁定　　　　　 108年度單禁沒字第54號\\n聲　請　人　臺灣彰化地方檢...   \n",
       "4  臺灣彰化地方法院刑事判決　　　　　　　　　　　　　九十一年度易字第九一號\\n　　公　訴　人...   \n",
       "\n",
       "                                                  法規   法官  裁判類型            案由  \\\n",
       "0  ['中華民國刑法第38條第1項第1款', '中華民國刑法第11條', '刑事訴訟法第299條...  洪俊誠  刑事判決  違反槍砲彈藥刀械管制條例   \n",
       "1      ['刑事訴訟法第368條', '刑事訴訟法第301條第1項', '刑事訴訟法第154條']  莊秋桃  刑事判決  違反槍彈藥刀械管制條例   \n",
       "2  ['中華民國刑法第38條第1項第1款', '中華民國刑法第11條', '刑事訴訟法第299條...  陳如玲  刑事判決  違反槍砲彈藥刀械管制條例   \n",
       "3  ['中華民國刑法第38條第1項', '中華民國刑法第40條第2項', '刑事訴訟法第455條...  巫美蕙  刑事裁定     聲請裁定沒收違禁物   \n",
       "4  ['中華民國刑法第38條第1項第1款', '中華民國刑法第11條', '刑事訴訟法第300條...  余仕明  刑事判決  違反槍砲彈藥刀械管制條例   \n",
       "\n",
       "  seg  \n",
       "0      \n",
       "1      \n",
       "2      \n",
       "3      \n",
       "4      "
      ]
     },
     "execution_count": 21,
     "metadata": {},
     "output_type": "execute_result"
    }
   ],
   "source": [
    "orgdata['seg'] = \"\"\n",
    "orgdata.head()"
   ]
  },
  {
   "cell_type": "code",
   "execution_count": 25,
   "id": "1b85a9e6",
   "metadata": {
    "scrolled": true
   },
   "outputs": [
    {
     "ename": "KeyError",
     "evalue": "'content'",
     "output_type": "error",
     "traceback": [
      "\u001b[1;31m---------------------------------------------------------------------------\u001b[0m",
      "\u001b[1;31mKeyError\u001b[0m                                  Traceback (most recent call last)",
      "File \u001b[1;32mC:\\ProgramData\\Anaconda3\\lib\\site-packages\\pandas\\core\\indexes\\base.py:3621\u001b[0m, in \u001b[0;36mIndex.get_loc\u001b[1;34m(self, key, method, tolerance)\u001b[0m\n\u001b[0;32m   3620\u001b[0m \u001b[38;5;28;01mtry\u001b[39;00m:\n\u001b[1;32m-> 3621\u001b[0m     \u001b[38;5;28;01mreturn\u001b[39;00m \u001b[38;5;28;43mself\u001b[39;49m\u001b[38;5;241;43m.\u001b[39;49m\u001b[43m_engine\u001b[49m\u001b[38;5;241;43m.\u001b[39;49m\u001b[43mget_loc\u001b[49m\u001b[43m(\u001b[49m\u001b[43mcasted_key\u001b[49m\u001b[43m)\u001b[49m\n\u001b[0;32m   3622\u001b[0m \u001b[38;5;28;01mexcept\u001b[39;00m \u001b[38;5;167;01mKeyError\u001b[39;00m \u001b[38;5;28;01mas\u001b[39;00m err:\n",
      "File \u001b[1;32mC:\\ProgramData\\Anaconda3\\lib\\site-packages\\pandas\\_libs\\index.pyx:136\u001b[0m, in \u001b[0;36mpandas._libs.index.IndexEngine.get_loc\u001b[1;34m()\u001b[0m\n",
      "File \u001b[1;32mC:\\ProgramData\\Anaconda3\\lib\\site-packages\\pandas\\_libs\\index.pyx:163\u001b[0m, in \u001b[0;36mpandas._libs.index.IndexEngine.get_loc\u001b[1;34m()\u001b[0m\n",
      "File \u001b[1;32mpandas\\_libs\\hashtable_class_helper.pxi:5198\u001b[0m, in \u001b[0;36mpandas._libs.hashtable.PyObjectHashTable.get_item\u001b[1;34m()\u001b[0m\n",
      "File \u001b[1;32mpandas\\_libs\\hashtable_class_helper.pxi:5206\u001b[0m, in \u001b[0;36mpandas._libs.hashtable.PyObjectHashTable.get_item\u001b[1;34m()\u001b[0m\n",
      "\u001b[1;31mKeyError\u001b[0m: 'content'",
      "\nThe above exception was the direct cause of the following exception:\n",
      "\u001b[1;31mKeyError\u001b[0m                                  Traceback (most recent call last)",
      "Input \u001b[1;32mIn [25]\u001b[0m, in \u001b[0;36m<cell line: 3>\u001b[1;34m()\u001b[0m\n\u001b[0;32m      1\u001b[0m jieba\u001b[38;5;241m.\u001b[39manalyse\u001b[38;5;241m.\u001b[39mset_stop_words(\u001b[38;5;124m'\u001b[39m\u001b[38;5;124mnoward.txt\u001b[39m\u001b[38;5;124m'\u001b[39m)\n\u001b[0;32m      2\u001b[0m index \u001b[38;5;241m=\u001b[39m \u001b[38;5;241m0\u001b[39m\n\u001b[1;32m----> 3\u001b[0m \u001b[38;5;28;01mfor\u001b[39;00m documents \u001b[38;5;129;01min\u001b[39;00m \u001b[43morgdata\u001b[49m\u001b[43m[\u001b[49m\u001b[38;5;124;43m'\u001b[39;49m\u001b[38;5;124;43mcontent\u001b[39;49m\u001b[38;5;124;43m'\u001b[39;49m\u001b[43m]\u001b[49m:\n\u001b[0;32m      4\u001b[0m     seg_list \u001b[38;5;241m=\u001b[39m jieba\u001b[38;5;241m.\u001b[39manalyse\u001b[38;5;241m.\u001b[39mextract_tags(documents, \u001b[38;5;241m150\u001b[39m)\n\u001b[0;32m      5\u001b[0m     \u001b[38;5;66;03m#seg_list = jieba.lcut(documents)\u001b[39;00m\n",
      "File \u001b[1;32mC:\\ProgramData\\Anaconda3\\lib\\site-packages\\pandas\\core\\frame.py:3505\u001b[0m, in \u001b[0;36mDataFrame.__getitem__\u001b[1;34m(self, key)\u001b[0m\n\u001b[0;32m   3503\u001b[0m \u001b[38;5;28;01mif\u001b[39;00m \u001b[38;5;28mself\u001b[39m\u001b[38;5;241m.\u001b[39mcolumns\u001b[38;5;241m.\u001b[39mnlevels \u001b[38;5;241m>\u001b[39m \u001b[38;5;241m1\u001b[39m:\n\u001b[0;32m   3504\u001b[0m     \u001b[38;5;28;01mreturn\u001b[39;00m \u001b[38;5;28mself\u001b[39m\u001b[38;5;241m.\u001b[39m_getitem_multilevel(key)\n\u001b[1;32m-> 3505\u001b[0m indexer \u001b[38;5;241m=\u001b[39m \u001b[38;5;28;43mself\u001b[39;49m\u001b[38;5;241;43m.\u001b[39;49m\u001b[43mcolumns\u001b[49m\u001b[38;5;241;43m.\u001b[39;49m\u001b[43mget_loc\u001b[49m\u001b[43m(\u001b[49m\u001b[43mkey\u001b[49m\u001b[43m)\u001b[49m\n\u001b[0;32m   3506\u001b[0m \u001b[38;5;28;01mif\u001b[39;00m is_integer(indexer):\n\u001b[0;32m   3507\u001b[0m     indexer \u001b[38;5;241m=\u001b[39m [indexer]\n",
      "File \u001b[1;32mC:\\ProgramData\\Anaconda3\\lib\\site-packages\\pandas\\core\\indexes\\base.py:3623\u001b[0m, in \u001b[0;36mIndex.get_loc\u001b[1;34m(self, key, method, tolerance)\u001b[0m\n\u001b[0;32m   3621\u001b[0m     \u001b[38;5;28;01mreturn\u001b[39;00m \u001b[38;5;28mself\u001b[39m\u001b[38;5;241m.\u001b[39m_engine\u001b[38;5;241m.\u001b[39mget_loc(casted_key)\n\u001b[0;32m   3622\u001b[0m \u001b[38;5;28;01mexcept\u001b[39;00m \u001b[38;5;167;01mKeyError\u001b[39;00m \u001b[38;5;28;01mas\u001b[39;00m err:\n\u001b[1;32m-> 3623\u001b[0m     \u001b[38;5;28;01mraise\u001b[39;00m \u001b[38;5;167;01mKeyError\u001b[39;00m(key) \u001b[38;5;28;01mfrom\u001b[39;00m \u001b[38;5;21;01merr\u001b[39;00m\n\u001b[0;32m   3624\u001b[0m \u001b[38;5;28;01mexcept\u001b[39;00m \u001b[38;5;167;01mTypeError\u001b[39;00m:\n\u001b[0;32m   3625\u001b[0m     \u001b[38;5;66;03m# If we have a listlike key, _check_indexing_error will raise\u001b[39;00m\n\u001b[0;32m   3626\u001b[0m     \u001b[38;5;66;03m#  InvalidIndexError. Otherwise we fall through and re-raise\u001b[39;00m\n\u001b[0;32m   3627\u001b[0m     \u001b[38;5;66;03m#  the TypeError.\u001b[39;00m\n\u001b[0;32m   3628\u001b[0m     \u001b[38;5;28mself\u001b[39m\u001b[38;5;241m.\u001b[39m_check_indexing_error(key)\n",
      "\u001b[1;31mKeyError\u001b[0m: 'content'"
     ]
    }
   ],
   "source": [
    "jieba.analyse.set_stop_words('noward.txt')\n",
    "index = 0\n",
    "for documents in orgdata['content']:\n",
    "    seg_list = jieba.analyse.extract_tags(documents, 150)\n",
    "    #seg_list = jieba.lcut(documents)\n",
    "    orgdata['seg'].iloc[index] = seg_list\n",
    "    index += 1"
   ]
  },
  {
   "cell_type": "code",
   "execution_count": null,
   "id": "d30a48c6",
   "metadata": {},
   "outputs": [],
   "source": []
  }
 ],
 "metadata": {
  "kernelspec": {
   "display_name": "Python 3 (ipykernel)",
   "language": "python",
   "name": "python3"
  },
  "language_info": {
   "codemirror_mode": {
    "name": "ipython",
    "version": 3
   },
   "file_extension": ".py",
   "mimetype": "text/x-python",
   "name": "python",
   "nbconvert_exporter": "python",
   "pygments_lexer": "ipython3",
   "version": "3.9.12"
  }
 },
 "nbformat": 4,
 "nbformat_minor": 5
}
