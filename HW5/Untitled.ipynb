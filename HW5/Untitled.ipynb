{
 "cells": [
  {
   "cell_type": "code",
   "execution_count": 1,
   "id": "070b2e5c",
   "metadata": {},
   "outputs": [],
   "source": [
    "import jieba\n",
    "import jieba.analyse\n",
    "import pandas as pd\n",
    "import numpy\n",
    "from collections import Counter"
   ]
  },
  {
   "cell_type": "code",
   "execution_count": 14,
   "id": "bc877d57",
   "metadata": {
    "scrolled": true
   },
   "outputs": [
    {
     "name": "stdout",
     "output_type": "stream",
     "text": [
      "我/是/一個/來/自/水星/的/原住民/，/水星/上面/有/很多/闢利/閃電無敵/可愛的/水母/水/中游/來游/去\n"
     ]
    }
   ],
   "source": [
    "documents = ['我是一個來自水星的原住民，水星上面有很多闢利閃電無敵可愛的水母水中游來游去']\n",
    "# 精確模式\n",
    "for sentence in documents:\n",
    "    seg_list = jieba.cut(sentence)\n",
    "    print('/'.join(seg_list))"
   ]
  },
  {
   "cell_type": "code",
   "execution_count": 15,
   "id": "e0c65846",
   "metadata": {
    "scrolled": true
   },
   "outputs": [
    {
     "name": "stdout",
     "output_type": "stream",
     "text": [
      "我/是/一個/來/自/水星/的/原住民/，/水星/上面/有/很多/闢利/閃電無敵/可愛的/水母/水/中游/來游/去\n"
     ]
    }
   ],
   "source": [
    "jieba.load_userdict('./userdict.txt')\n",
    "\n",
    "for sentence in documents:\n",
    "    seg_list = jieba.cut(sentence)\n",
    "    print('/'.join(seg_list))"
   ]
  },
  {
   "cell_type": "code",
   "execution_count": null,
   "id": "681386e5",
   "metadata": {},
   "outputs": [],
   "source": []
  },
  {
   "cell_type": "code",
   "execution_count": null,
   "id": "705d06cd",
   "metadata": {},
   "outputs": [],
   "source": []
  }
 ],
 "metadata": {
  "kernelspec": {
   "display_name": "Python 3 (ipykernel)",
   "language": "python",
   "name": "python3"
  },
  "language_info": {
   "codemirror_mode": {
    "name": "ipython",
    "version": 3
   },
   "file_extension": ".py",
   "mimetype": "text/x-python",
   "name": "python",
   "nbconvert_exporter": "python",
   "pygments_lexer": "ipython3",
   "version": "3.9.12"
  }
 },
 "nbformat": 4,
 "nbformat_minor": 5
}
