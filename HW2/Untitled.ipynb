{
 "cells": [
  {
   "cell_type": "code",
   "execution_count": 1,
   "id": "2b504e2a",
   "metadata": {},
   "outputs": [],
   "source": [
    "import json"
   ]
  },
  {
   "cell_type": "code",
   "execution_count": 2,
   "id": "550fd269",
   "metadata": {},
   "outputs": [
    {
     "data": {
      "text/plain": [
       "dict"
      ]
     },
     "execution_count": 2,
     "metadata": {},
     "output_type": "execute_result"
    }
   ],
   "source": [
    "test = open('1qucn-esaye.json',encoding=\"utf8\")\n",
    "Data = json.load(test)\n",
    "type(Data) "
   ]
  },
  {
   "cell_type": "code",
   "execution_count": 3,
   "id": "4ac58506",
   "metadata": {},
   "outputs": [
    {
     "data": {
      "text/plain": [
       "dict_items([('game_list', [{'game': 'Candy Crush Saga', 'number': '2,730?million downloads[a]', 'as of': 'Nov-17', 'free': 'Free-to-play', 'date': '12-Apr-12', 'publisher': 'King'}, {'game': 'PUBG: Battlegrounds', 'number': '1,200?million downloads[a]', 'as of': 'Dec-21', 'free': 'Free-to-play', 'date': '20-Dec-17', 'publisher': 'Krafton?/?Tencent'}, {'game': 'CrossFire', 'number': '1,000?million', 'as of': 'Feb-20', 'free': 'Free-to-play', 'date': '3-May-07', 'publisher': 'Smilegate?/?Tencent'}, {'game': 'Dungeon Fighter Online', 'number': '850?million', 'as of': 'Dec-21', 'free': 'Free-to-play', 'date': 'Aug-05', 'publisher': 'Nexon?/?Tencent'}, {'game': 'Minecraft', 'number': '738?million[a][c]', 'as of': 'Apr-21', 'free': 'Pay-to-play / free-to-play[c]', 'date': '18-Nov-11', 'publisher': 'Mojang?/?NetEase[c]'}, {'game': 'QQ Speed / GKART / Speed Drifters', 'number': '700?million[a]', 'as of': 'Jan-20', 'free': 'Free-to-play', 'date': '23-Jan-08', 'publisher': 'Tencent?/?Garena'}, {'game': 'Pac-Man Doodle', 'number': '505?million peak?daily players[d][a]', 'as of': 'May-10', 'free': 'Free-to-play', 'date': '21-May-10', 'publisher': 'Bandai Namco?/?Google'}, {'game': 'Among Us', 'number': '500?million peak monthly players[e]', 'as of': 'Nov-20', 'free': 'Free-to-play /?pay-to-play[f]', 'date': '15-Jun-18', 'publisher': 'Innersloth'}, {'game': 'Microsoft Solitaire', 'number': '400?million', 'as of': 'Jul-15', 'free': 'Free-to-play', 'date': '22-May-90', 'publisher': 'Microsoft'}, {'game': 'Mini World', 'number': '400?million[a]', 'as of': 'Apr-20', 'free': 'Free-to-play', 'date': '26-Dec-15', 'publisher': 'Miniwan'}, {'game': 'Crazyracing Kartrider', 'number': '380?million registered accounts', 'as of': 'Mar-20', 'free': 'Free-to-play', 'date': '1-Jun-04', 'publisher': 'Nexon'}, {'game': 'Fortnite', 'number': '350?million registered accounts[a]', 'as of': 'May-20', 'free': 'Free-to-play', 'date': '26-Sep-17', 'publisher': 'Epic Games'}, {'game': 'Fantasy Westward Journey', 'number': '310?million registered accounts', 'as of': 'Apr-15', 'free': 'Free-to-play', 'date': 'Dec-01', 'publisher': 'NetEase'}, {'game': 'RuneScape', 'number': '280?million registered accounts', 'as of': 'Apr-20', 'free': 'Subscription?/ free-to-play', 'date': '4-Jan-01', 'publisher': 'Jagex'}, {'game': 'Rules of Survival', 'number': '230?million[a]', 'as of': 'Oct-18', 'free': 'Free-to-play', 'date': '17-Nov-17', 'publisher': 'NetEase'}, {'game': 'Roblox', 'number': '202?million peak monthly players', 'as of': 'Apr-21', 'free': 'Free-to-play', 'date': '27-Aug-06', 'publisher': 'Roblox Corporation'}, {'game': 'Club Penguin', 'number': '200?million registered accounts', 'as of': 'Jul-13', 'free': 'Free-to-play', 'date': 'Oct-05', 'publisher': 'Disney Interactive Studios'}, {'game': 'Dragon Nest', 'number': '200?million', 'as of': 'Mar-13', 'free': 'Free-to-play', 'date': 'Mar-10', 'publisher': 'Nexon'}, {'game': 'MapleStory', 'number': '180?million registered accounts', 'as of': 'Mar-20', 'free': 'Free-to-play', 'date': '29-Apr-03', 'publisher': 'Nexon'}, {'game': 'Tetris', 'number': '177?million[a]', 'as of': 'Sep-08', 'free': 'Pay-to-play / free-to-play', 'date': '6-Jun-84', 'publisher': 'Various'}, {'game': 'Animal Jam', 'number': '160?million', 'as of': 'Oct-17', 'free': 'Free-to-play', 'date': 'Sep-10', 'publisher': 'WildWorks'}, {'game': 'World of Tanks', 'number': '160?million', 'as of': 'Apr-20', 'free': 'Free-to-play', 'date': '12-Aug-10', 'publisher': 'Wargaming'}, {'game': 'Grand Theft Auto V', 'number': '140?million', 'as of': 'Feb-21', 'free': 'Pay-to-play', 'date': '1-Oct-13', 'publisher': 'Rockstar Games'}, {'game': 'The Legend of Mir 3', 'number': '120?million registered accounts', 'as of': 'Feb-12', 'free': 'Subscription', 'date': 'Oct-04', 'publisher': 'WeMade Entertainment'}, {'game': 'League of Legends', 'number': '111?million peak?monthly players', 'as of': 'Aug-18', 'free': 'Free-to-play', 'date': '27-Oct-09', 'publisher': 'Riot Games'}, {'game': 'Transformice', 'number': '100?million registered accounts', 'as of': 'Apr-19', 'free': 'Free-to-play', 'date': '1-May-10', 'publisher': 'Atelier 801'}, {'game': 'World of Warcraft', 'number': '100?million registered accounts', 'as of': 'Jan-14', 'free': 'Subscription / pay-to-play[g]', 'date': '23-Nov-04', 'publisher': 'Blizzard Entertainment'}, {'game': 'CityVille', 'number': '100?million[a]', 'as of': 'Oct-11', 'free': 'Free-to-play', 'date': '2-Dec-10', 'publisher': 'Zynga'}, {'game': 'Happy Farm', 'number': '100?million[a]', 'as of': 'Aug-13', 'free': 'Free-to-play', 'date': 'Nov-08', 'publisher': '5 Minutes'}, {'game': 'Scions of Fate', 'number': '100?million registered accounts', 'as of': 'Apr-18', 'free': 'Free-to-play', 'date': '25-Nov-04', 'publisher': 'KRG Soft'}, {'game': 'The Sims Social', 'number': '100?million', 'as of': 'Oct-11', 'free': 'Free-to-play', 'date': '9-Aug-11', 'publisher': 'Electronic Arts'}, {'game': 'Zhengtu', 'number': '100?million registered accounts', 'as of': 'Apr-18', 'free': 'Free-to-play', 'date': '2007', 'publisher': 'Zhengtu Network'}, {'game': 'Microsoft Solitaire Collection', 'number': '100?million', 'as of': 'Aug-16', 'free': 'Free-to-play', 'date': '29-Jul-15', 'publisher': 'Microsoft'}, {'game': 'Hearthstone', 'number': '100?million', 'as of': 'Nov-18', 'free': 'Free-to-play', 'date': '11-Mar-14', 'publisher': 'Blizzard Entertainment'}, {'game': 'Apex Legends', 'number': '100?million', 'as of': 'May-21', 'free': 'Free-to-play', 'date': '4-Feb-19', 'publisher': 'Electronic Arts'}, {'game': 'Star Wars: Galaxy of Heroes', 'number': '100?million', 'as of': 'Nov-21', 'free': 'Free-to-play', 'date': '24-Nov-15', 'publisher': 'Electronic Arts'}, {'game': 'Call of Duty: Warzone', 'number': '100?million[h]', 'as of': 'Apr-21', 'free': 'Free-to-play', 'date': '20-Mar-20', 'publisher': 'Activision Blizzard'}, {'game': 'FarmVille', 'number': '83?million peak monthly players[a]', 'as of': 'Mar-10', 'free': 'Free-to-play', 'date': '19-Jun-09', 'publisher': 'Zynga'}, {'game': 'Westward Journey Online II', 'number': '83?million registered accounts', 'as of': 'Nov-06', 'free': 'Free-to-play', 'date': '2001', 'publisher': 'NetEase'}, {'game': 'Ragnarok Online', 'number': '80?million registered accounts', 'as of': 'Apr-18', 'free': 'Subscription[i]', 'date': '31-Aug-02', 'publisher': 'Gravity'}, {'game': 'Moshi Monsters', 'number': '80?million registered accounts', 'as of': 'Jul-14', 'free': 'Free-to-play', 'date': '16-Apr-08', 'publisher': 'Mind Candy'}, {'game': 'Yu-Gi-Oh! Duel Links', 'number': '80?million[a]', 'as of': 'Nov-18', 'free': 'Free-to-play', 'date': '17-Nov-16', 'publisher': 'Konami'}, {'game': 'Dragon Oath', 'number': '75?million registered accounts', 'as of': 'Feb-10', 'free': 'Free-to-play', 'date': '2007', 'publisher': 'KRG Soft'}, {'game': 'Rocket League', 'number': '75?million', 'as of': '7-Jul-20', 'free': 'Free-to-play[j]', 'date': '7-Jul-15', 'publisher': 'Psyonix'}, {'game': 'Dofus', 'number': '62?million registered accounts', 'as of': 'Apr-18', 'free': 'Subscription[i]', 'date': 'Sep-04', 'publisher': 'Ankama'}, {'game': 'Adopt Me!', 'number': '60?million peak monthly players', 'as of': 'May-21', 'free': 'Free-to-play', 'date': '14-Jul-17', 'publisher': 'Uplift Games'}, {'game': 'Flyff', 'number': '60?million registered accounts', 'as of': 'Apr-18', 'free': 'Free-to-play', 'date': '16-Aug-04', 'publisher': 'Gala Lab'}, {'game': 'Fall Guys', 'number': '50?million', 'as of': 'Jul-22', 'free': 'Free-to-play[k]', 'date': '4-Aug-20', 'publisher': 'Epic Games'}, {'game': 'Overwatch', 'number': '50?million', 'as of': 'Nov-19', 'free': 'Pay-to-play', 'date': '24-May-16', 'publisher': 'Blizzard Entertainment'}, {'game': 'Lineage', 'number': '50?million', 'as of': 'Mar-07', 'free': 'Subscription', 'date': '3-Sep-98', 'publisher': 'NCSoft'}, {'game': 'Perfect World', 'number': '50?million registered accounts', 'as of': 'Apr-18', 'free': 'Free-to-play', 'date': 'Jul-05', 'publisher': 'Beijing Perfect World'}, {'game': 'Team Fortress 2', 'number': '50?million owners on?Steam[l]', 'as of': 'Jul-18', 'free': 'Free-to-play', 'date': '10-Oct-07', 'publisher': 'Valve'}, {'game': \"Tom Clancy's Rainbow Six Siege\", 'number': '50?million registered accounts', 'as of': 'Sep-19', 'free': 'Pay-to-play', 'date': '1-Dec-15', 'publisher': 'Ubisoft'}, {'game': 'Warframe', 'number': '50?million registered accounts', 'as of': 'Mar-19', 'free': 'Free-to-play', 'date': '25-Mar-13', 'publisher': 'Digital Extremes'}, {'game': 'Counter-Strike: Global Offensive', 'number': '46?million owners on Steam[l]', 'as of': 'Jul-18', 'free': 'Free-to-play[m]', 'date': '21-Aug-12', 'publisher': 'Valve'}, {'game': 'FarmVille 2', 'number': '43?million peak monthly players[a]', 'as of': 'Dec-12', 'free': 'Free-to-play', 'date': 'Sep-12', 'publisher': 'Zynga'}, {'game': 'The Sims 4', 'number': '36?million', 'as of': 'May-21', 'free': 'Free-to-play[n]', 'date': '2-Sep-14', 'publisher': 'Electronic Arts'}, {'game': 'Drakensang Online', 'number': '35?million registered accounts', 'as of': 'Apr-18', 'free': 'Free-to-play', 'date': 'Aug-11', 'publisher': 'Bigpoint'}, {'game': 'Teamfight Tactics', 'number': '33?million monthly players', 'as of': 'Sep-19', 'free': 'Free-to-play', 'date': '26-Jun-19', 'publisher': 'Riot Games'}, {'game': 'Evony', 'number': '33?million registered accounts', 'as of': 'Oct-16', 'free': 'Free-to-play', 'date': '6-May-09', 'publisher': 'Evony LLC'}, {'game': 'FIFA 18', 'number': '32.5?million[o]', 'as of': 'Dec-18', 'free': 'Pay-to-play', 'date': '29-Sep-17', 'publisher': 'EA Sports'}, {'game': 'FIFA 21', 'number': '31?million', 'as of': 'Aug-21', 'free': 'Pay-to-play', 'date': '9-Oct-20', 'publisher': 'Electronic Arts'}, {'game': 'Pac-Man', 'number': '30?million peak monthly US players', 'as of': '1982', 'free': 'Pay-to-play', 'date': '21-May-80', 'publisher': 'Namco'}, {'game': 'Black Desert Online', 'number': '30?million[a]', 'as of': 'Jan-20', 'free': 'Pay-to-play', 'date': '14-Jul-15', 'publisher': 'Kakao Games'}, {'game': 'FIFA 17', 'number': '30?million[o]', 'as of': 'Dec-18', 'free': 'Pay-to-play', 'date': '27-Sep-16', 'publisher': 'EA Sports'}, {'game': 'Sea of Thieves', 'number': '30?million', 'as of': 'Jun-22', 'free': 'Pay-to-play', 'date': '20-Mar-18', 'publisher': 'Rare'}, {'game': 'FIFA 16', 'number': '28.3?million[o]', 'as of': 'Dec-18', 'free': 'Pay-to-play', 'date': '22-Sep-15', 'publisher': 'EA Sports'}, {'game': 'Metal Slug Defense', 'number': '29?million[a]', 'as of': 'Feb-16', 'free': 'Free-to-play', 'date': '1-May-14', 'publisher': 'SNK'}, {'game': 'TERA', 'number': '28?million', 'as of': '2018', 'free': 'Free-to-play[p]', 'date': '25-Jan-11', 'publisher': 'Bluehole'}, {'game': 'Unturned', 'number': '27?million owners on Steam[l]', 'as of': 'Jul-18', 'free': 'Free-to-play', 'date': '7-Jul-17', 'publisher': 'Smartly Dressed Games'}, {'game': 'GetAmped', 'number': '26?million registered accounts', 'as of': 'Oct-08', 'free': 'Free-to-play', 'date': '26-Apr-02', 'publisher': 'CyberStep'}, {'game': 'Overwatch 2', 'number': '25?million', 'as of': 'Oct-22', 'free': 'Pay-to-play', 'date': '4-Oct-22', 'publisher': 'Blizzard Entertainment'}, {'game': 'Street Fighter II', 'number': '25?million US players', 'as of': '1994', 'free': 'Pay-to-play', 'date': '6-Feb-91', 'publisher': 'Capcom'}, {'game': 'Call of Duty: WWII', 'number': '24.9?million[o]', 'as of': 'Dec-18', 'free': 'Pay-to-play', 'date': '3-Nov-17', 'publisher': 'Activision'}, {'game': 'Forza Horizon 4', 'number': '24 million', 'as of': 'Nov-20', 'free': 'Pay-to-play', 'date': '2-Oct-18', 'publisher': 'Microsoft Studios'}, {'game': 'Left 4 Dead 2', 'number': '23?million owners on Steam[l]', 'as of': 'Jul-18', 'free': 'Pay-to-play', 'date': '17-Nov-09', 'publisher': 'Valve'}, {'game': 'Sudden Attack', 'number': '23?million registered accounts', 'as of': 'Aug-20', 'free': 'Free-to-play', 'date': '11-Apr-05', 'publisher': 'Nexon'}, {'game': 'Nexus: The Kingdom of the Winds', 'number': '21?million registered accounts', 'as of': 'Aug-20', 'free': 'Free-to-play', 'date': '5-Apr-96', 'publisher': 'Nexon'}, {'game': 'Final Fantasy XIV', 'number': '20?million', 'as of': 'Jul-20', 'free': 'Subscription', 'date': '27-Aug-13', 'publisher': 'Square Enix'}, {'game': 'Forza Horizon 5', 'number': '20?million', 'as of': 'Jun-22', 'free': 'Pay-to-play', 'date': '9-Nov-21', 'publisher': 'Xbox Game Studios'}, {'game': 'Mabinogi', 'number': '20?million registered accounts', 'as of': 'Aug-20', 'free': 'Free-to-play', 'date': '22-Jun-04', 'publisher': 'Nexon'}, {'game': 'DC Universe Online', 'number': '20?million', 'as of': 'May-15', 'free': 'Free-to-play', 'date': '11-Jan-11', 'publisher': 'Daybreak Game Company'}, {'game': 'Shadowverse', 'number': '20?million[a]', 'as of': 'Oct-18', 'free': 'Free-to-play', 'date': '17-Jun-16', 'publisher': 'Cygames/NetEase'}])])"
      ]
     },
     "execution_count": 3,
     "metadata": {},
     "output_type": "execute_result"
    }
   ],
   "source": [
    "Data.items()"
   ]
  },
  {
   "cell_type": "code",
   "execution_count": 4,
   "id": "40b8d1f8",
   "metadata": {},
   "outputs": [],
   "source": [
    "temp = Data.get('games_list')\n",
    "temp"
   ]
  },
  {
   "cell_type": "code",
   "execution_count": 5,
   "id": "e1eae884",
   "metadata": {},
   "outputs": [],
   "source": [
    "ask = \"Minecraft\""
   ]
  },
  {
   "cell_type": "code",
   "execution_count": 6,
   "id": "bedfaf1f",
   "metadata": {},
   "outputs": [
    {
     "ename": "TypeError",
     "evalue": "'NoneType' object is not iterable",
     "output_type": "error",
     "traceback": [
      "\u001b[1;31m---------------------------------------------------------------------------\u001b[0m",
      "\u001b[1;31mTypeError\u001b[0m                                 Traceback (most recent call last)",
      "Input \u001b[1;32mIn [6]\u001b[0m, in \u001b[0;36m<cell line: 1>\u001b[1;34m()\u001b[0m\n\u001b[1;32m----> 1\u001b[0m \u001b[38;5;28;01mfor\u001b[39;00m i \u001b[38;5;129;01min\u001b[39;00m temp:\n\u001b[0;32m      2\u001b[0m     \u001b[38;5;28;01mif\u001b[39;00m ask \u001b[38;5;241m==\u001b[39m i\u001b[38;5;241m.\u001b[39mget(\u001b[38;5;124m'\u001b[39m\u001b[38;5;124mgame\u001b[39m\u001b[38;5;124m'\u001b[39m):\n\u001b[0;32m      3\u001b[0m         \u001b[38;5;28mprint\u001b[39m(ask, \u001b[38;5;124m'\u001b[39m\u001b[38;5;124m的發行商是\u001b[39m\u001b[38;5;124m'\u001b[39m, i\u001b[38;5;241m.\u001b[39mget(\u001b[38;5;124m'\u001b[39m\u001b[38;5;124mpublisher\u001b[39m\u001b[38;5;124m'\u001b[39m), \u001b[38;5;124m'\u001b[39m\u001b[38;5;124m，銷售量是\u001b[39m\u001b[38;5;124m'\u001b[39m, i\u001b[38;5;241m.\u001b[39mget(\u001b[38;5;124m'\u001b[39m\u001b[38;5;124mnumber\u001b[39m\u001b[38;5;124m'\u001b[39m),\u001b[38;5;124m'\u001b[39m\u001b[38;5;124m百萬\u001b[39m\u001b[38;5;124m'\u001b[39m)\n",
      "\u001b[1;31mTypeError\u001b[0m: 'NoneType' object is not iterable"
     ]
    }
   ],
   "source": [
    "for i in temp:\n",
    "    if ask == i.get('game'):\n",
    "        print(ask, '的發行商是', i.get('publisher'), '，銷售量是', i.get('number'),'百萬')   "
   ]
  },
  {
   "cell_type": "code",
   "execution_count": null,
   "id": "ba6ab53a",
   "metadata": {},
   "outputs": [],
   "source": []
  }
 ],
 "metadata": {
  "kernelspec": {
   "display_name": "Python 3 (ipykernel)",
   "language": "python",
   "name": "python3"
  },
  "language_info": {
   "codemirror_mode": {
    "name": "ipython",
    "version": 3
   },
   "file_extension": ".py",
   "mimetype": "text/x-python",
   "name": "python",
   "nbconvert_exporter": "python",
   "pygments_lexer": "ipython3",
   "version": "3.9.12"
  }
 },
 "nbformat": 4,
 "nbformat_minor": 5
}
