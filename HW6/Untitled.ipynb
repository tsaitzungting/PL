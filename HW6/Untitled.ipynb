{
 "cells": [
  {
   "cell_type": "code",
   "execution_count": 2,
   "id": "af27049d",
   "metadata": {},
   "outputs": [],
   "source": [
    "import jieba\n",
    "import jieba.analyse\n",
    "import pandas as pd\n",
    "import numpy as np\n",
    "import re\n",
    "from collections import Counter"
   ]
  },
  {
   "cell_type": "code",
   "execution_count": 3,
   "id": "0af97356",
   "metadata": {
    "scrolled": true
   },
   "outputs": [],
   "source": [
    "orgdata = pd.read_csv('我想睡覺了.csv')"
   ]
  },
  {
   "cell_type": "code",
   "execution_count": 4,
   "id": "2c6bbdeb",
   "metadata": {},
   "outputs": [
    {
     "data": {
      "text/html": [
       "<div>\n",
       "<style scoped>\n",
       "    .dataframe tbody tr th:only-of-type {\n",
       "        vertical-align: middle;\n",
       "    }\n",
       "\n",
       "    .dataframe tbody tr th {\n",
       "        vertical-align: top;\n",
       "    }\n",
       "\n",
       "    .dataframe thead th {\n",
       "        text-align: right;\n",
       "    }\n",
       "</style>\n",
       "<table border=\"1\" class=\"dataframe\">\n",
       "  <thead>\n",
       "    <tr style=\"text-align: right;\">\n",
       "      <th></th>\n",
       "      <th>Unnamed: 0</th>\n",
       "      <th>日期</th>\n",
       "      <th>案號</th>\n",
       "      <th>內文</th>\n",
       "      <th>法規</th>\n",
       "      <th>法官</th>\n",
       "      <th>裁判類型</th>\n",
       "      <th>案由</th>\n",
       "    </tr>\n",
       "  </thead>\n",
       "  <tbody>\n",
       "    <tr>\n",
       "      <th>0</th>\n",
       "      <td>0</td>\n",
       "      <td>20021129</td>\n",
       "      <td>91,易,2943</td>\n",
       "      <td>臺灣臺中地方法院刑事判決　　　　　　　　　　　　九十一年度易字第二九四三號\\n　　公　訴　人...</td>\n",
       "      <td>['中華民國刑法第38條第1項第1款', '中華民國刑法第11條', '刑事訴訟法第299條...</td>\n",
       "      <td>洪俊誠</td>\n",
       "      <td>刑事判決</td>\n",
       "      <td>違反槍砲彈藥刀械管制條例</td>\n",
       "    </tr>\n",
       "    <tr>\n",
       "      <th>1</th>\n",
       "      <td>1</td>\n",
       "      <td>20000808-279568d4-5d44-4f67-9053-41d33d651f5e</td>\n",
       "      <td>89,上易,1059</td>\n",
       "      <td>臺灣高等法院高雄分院刑事判決　　　　　　　　　八十九年度上易字第一五九號\\n　　上　訴　人...</td>\n",
       "      <td>['刑事訴訟法第368條', '刑事訴訟法第301條第1項', '刑事訴訟法第154條']</td>\n",
       "      <td>莊秋桃</td>\n",
       "      <td>刑事判決</td>\n",
       "      <td>違反槍彈藥刀械管制條例</td>\n",
       "    </tr>\n",
       "    <tr>\n",
       "      <th>2</th>\n",
       "      <td>2</td>\n",
       "      <td>20030603</td>\n",
       "      <td>92,易,1296</td>\n",
       "      <td>臺灣臺中地方法院刑事判決　　　　　　　　　　　　九十二年度易字第一二九六號\\n　　公　訴　人...</td>\n",
       "      <td>['中華民國刑法第38條第1項第1款', '中華民國刑法第11條', '刑事訴訟法第299條...</td>\n",
       "      <td>陳如玲</td>\n",
       "      <td>刑事判決</td>\n",
       "      <td>違反槍砲彈藥刀械管制條例</td>\n",
       "    </tr>\n",
       "    <tr>\n",
       "      <th>3</th>\n",
       "      <td>3</td>\n",
       "      <td>20190507</td>\n",
       "      <td>108,單禁沒,54</td>\n",
       "      <td>臺灣彰化地方法院刑事裁定　　　　　 108年度單禁沒字第54號\\n聲　請　人　臺灣彰化地方檢...</td>\n",
       "      <td>['中華民國刑法第38條第1項', '中華民國刑法第40條第2項', '刑事訴訟法第455條...</td>\n",
       "      <td>巫美蕙</td>\n",
       "      <td>刑事裁定</td>\n",
       "      <td>聲請裁定沒收違禁物</td>\n",
       "    </tr>\n",
       "    <tr>\n",
       "      <th>4</th>\n",
       "      <td>4</td>\n",
       "      <td>20030116</td>\n",
       "      <td>91,易,901</td>\n",
       "      <td>臺灣彰化地方法院刑事判決　　　　　　　　　　　　　九十一年度易字第九一號\\n　　公　訴　人...</td>\n",
       "      <td>['中華民國刑法第38條第1項第1款', '中華民國刑法第11條', '刑事訴訟法第300條...</td>\n",
       "      <td>余仕明</td>\n",
       "      <td>刑事判決</td>\n",
       "      <td>違反槍砲彈藥刀械管制條例</td>\n",
       "    </tr>\n",
       "  </tbody>\n",
       "</table>\n",
       "</div>"
      ],
      "text/plain": [
       "   Unnamed: 0                                             日期          案號  \\\n",
       "0           0                                       20021129   91,易,2943   \n",
       "1           1  20000808-279568d4-5d44-4f67-9053-41d33d651f5e  89,上易,1059   \n",
       "2           2                                       20030603   92,易,1296   \n",
       "3           3                                       20190507  108,單禁沒,54   \n",
       "4           4                                       20030116    91,易,901   \n",
       "\n",
       "                                                  內文  \\\n",
       "0  臺灣臺中地方法院刑事判決　　　　　　　　　　　　九十一年度易字第二九四三號\\n　　公　訴　人...   \n",
       "1  臺灣高等法院高雄分院刑事判決　　　　　　　　　八十九年度上易字第一五九號\\n　　上　訴　人...   \n",
       "2  臺灣臺中地方法院刑事判決　　　　　　　　　　　　九十二年度易字第一二九六號\\n　　公　訴　人...   \n",
       "3  臺灣彰化地方法院刑事裁定　　　　　 108年度單禁沒字第54號\\n聲　請　人　臺灣彰化地方檢...   \n",
       "4  臺灣彰化地方法院刑事判決　　　　　　　　　　　　　九十一年度易字第九一號\\n　　公　訴　人...   \n",
       "\n",
       "                                                  法規   法官  裁判類型            案由  \n",
       "0  ['中華民國刑法第38條第1項第1款', '中華民國刑法第11條', '刑事訴訟法第299條...  洪俊誠  刑事判決  違反槍砲彈藥刀械管制條例  \n",
       "1      ['刑事訴訟法第368條', '刑事訴訟法第301條第1項', '刑事訴訟法第154條']  莊秋桃  刑事判決  違反槍彈藥刀械管制條例  \n",
       "2  ['中華民國刑法第38條第1項第1款', '中華民國刑法第11條', '刑事訴訟法第299條...  陳如玲  刑事判決  違反槍砲彈藥刀械管制條例  \n",
       "3  ['中華民國刑法第38條第1項', '中華民國刑法第40條第2項', '刑事訴訟法第455條...  巫美蕙  刑事裁定     聲請裁定沒收違禁物  \n",
       "4  ['中華民國刑法第38條第1項第1款', '中華民國刑法第11條', '刑事訴訟法第300條...  余仕明  刑事判決  違反槍砲彈藥刀械管制條例  "
      ]
     },
     "execution_count": 4,
     "metadata": {},
     "output_type": "execute_result"
    }
   ],
   "source": [
    "orgdata.head()"
   ]
  },
  {
   "cell_type": "code",
   "execution_count": 5,
   "id": "97e6610a",
   "metadata": {},
   "outputs": [
    {
     "name": "stderr",
     "output_type": "stream",
     "text": [
      "Building prefix dict from the default dictionary ...\n",
      "Dumping model to file cache C:\\Users\\USER\\AppData\\Local\\Temp\\jieba.cache\n",
      "Loading model cost 0.669 seconds.\n",
      "Prefix dict has been built successfully.\n"
     ]
    },
    {
     "name": "stdout",
     "output_type": "stream",
     "text": [
      "沒收違/禁物/易科罰/金\n"
     ]
    }
   ],
   "source": [
    "documents = ['沒收違禁物易科罰金']\n",
    "\n",
    "for sentence in documents:\n",
    "    seg_list = jieba.cut(sentence)\n",
    "    print('/'.join(seg_list))"
   ]
  },
  {
   "cell_type": "code",
   "execution_count": 11,
   "id": "e372403c",
   "metadata": {
    "scrolled": false
   },
   "outputs": [
    {
     "name": "stdout",
     "output_type": "stream",
     "text": [
      "沒收違禁物/易科罰金\n"
     ]
    }
   ],
   "source": [
    "jieba.load_userdict('./21guns.txt')\n",
    "\n",
    "for sentence in documents:\n",
    "    seg_list = jieba.cut(sentence)\n",
    "    print('/'.join(seg_list))"
   ]
  },
  {
   "cell_type": "code",
   "execution_count": 12,
   "id": "534a91f1",
   "metadata": {},
   "outputs": [
    {
     "data": {
      "text/html": [
       "<div>\n",
       "<style scoped>\n",
       "    .dataframe tbody tr th:only-of-type {\n",
       "        vertical-align: middle;\n",
       "    }\n",
       "\n",
       "    .dataframe tbody tr th {\n",
       "        vertical-align: top;\n",
       "    }\n",
       "\n",
       "    .dataframe thead th {\n",
       "        text-align: right;\n",
       "    }\n",
       "</style>\n",
       "<table border=\"1\" class=\"dataframe\">\n",
       "  <thead>\n",
       "    <tr style=\"text-align: right;\">\n",
       "      <th></th>\n",
       "      <th>Unnamed: 0</th>\n",
       "      <th>日期</th>\n",
       "      <th>案號</th>\n",
       "      <th>內文</th>\n",
       "      <th>法規</th>\n",
       "      <th>法官</th>\n",
       "      <th>裁判類型</th>\n",
       "      <th>案由</th>\n",
       "      <th>seg</th>\n",
       "    </tr>\n",
       "  </thead>\n",
       "  <tbody>\n",
       "    <tr>\n",
       "      <th>0</th>\n",
       "      <td>0</td>\n",
       "      <td>20021129</td>\n",
       "      <td>91,易,2943</td>\n",
       "      <td>臺灣臺中地方法院刑事判決　　　　　　　　　　　　九十一年度易字第二九四三號\\n　　公　訴　人...</td>\n",
       "      <td>['中華民國刑法第38條第1項第1款', '中華民國刑法第11條', '刑事訴訟法第299條...</td>\n",
       "      <td>洪俊誠</td>\n",
       "      <td>刑事判決</td>\n",
       "      <td>違反槍砲彈藥刀械管制條例</td>\n",
       "      <td></td>\n",
       "    </tr>\n",
       "    <tr>\n",
       "      <th>1</th>\n",
       "      <td>1</td>\n",
       "      <td>20000808-279568d4-5d44-4f67-9053-41d33d651f5e</td>\n",
       "      <td>89,上易,1059</td>\n",
       "      <td>臺灣高等法院高雄分院刑事判決　　　　　　　　　八十九年度上易字第一五九號\\n　　上　訴　人...</td>\n",
       "      <td>['刑事訴訟法第368條', '刑事訴訟法第301條第1項', '刑事訴訟法第154條']</td>\n",
       "      <td>莊秋桃</td>\n",
       "      <td>刑事判決</td>\n",
       "      <td>違反槍彈藥刀械管制條例</td>\n",
       "      <td></td>\n",
       "    </tr>\n",
       "    <tr>\n",
       "      <th>2</th>\n",
       "      <td>2</td>\n",
       "      <td>20030603</td>\n",
       "      <td>92,易,1296</td>\n",
       "      <td>臺灣臺中地方法院刑事判決　　　　　　　　　　　　九十二年度易字第一二九六號\\n　　公　訴　人...</td>\n",
       "      <td>['中華民國刑法第38條第1項第1款', '中華民國刑法第11條', '刑事訴訟法第299條...</td>\n",
       "      <td>陳如玲</td>\n",
       "      <td>刑事判決</td>\n",
       "      <td>違反槍砲彈藥刀械管制條例</td>\n",
       "      <td></td>\n",
       "    </tr>\n",
       "    <tr>\n",
       "      <th>3</th>\n",
       "      <td>3</td>\n",
       "      <td>20190507</td>\n",
       "      <td>108,單禁沒,54</td>\n",
       "      <td>臺灣彰化地方法院刑事裁定　　　　　 108年度單禁沒字第54號\\n聲　請　人　臺灣彰化地方檢...</td>\n",
       "      <td>['中華民國刑法第38條第1項', '中華民國刑法第40條第2項', '刑事訴訟法第455條...</td>\n",
       "      <td>巫美蕙</td>\n",
       "      <td>刑事裁定</td>\n",
       "      <td>聲請裁定沒收違禁物</td>\n",
       "      <td></td>\n",
       "    </tr>\n",
       "    <tr>\n",
       "      <th>4</th>\n",
       "      <td>4</td>\n",
       "      <td>20030116</td>\n",
       "      <td>91,易,901</td>\n",
       "      <td>臺灣彰化地方法院刑事判決　　　　　　　　　　　　　九十一年度易字第九一號\\n　　公　訴　人...</td>\n",
       "      <td>['中華民國刑法第38條第1項第1款', '中華民國刑法第11條', '刑事訴訟法第300條...</td>\n",
       "      <td>余仕明</td>\n",
       "      <td>刑事判決</td>\n",
       "      <td>違反槍砲彈藥刀械管制條例</td>\n",
       "      <td></td>\n",
       "    </tr>\n",
       "  </tbody>\n",
       "</table>\n",
       "</div>"
      ],
      "text/plain": [
       "   Unnamed: 0                                             日期          案號  \\\n",
       "0           0                                       20021129   91,易,2943   \n",
       "1           1  20000808-279568d4-5d44-4f67-9053-41d33d651f5e  89,上易,1059   \n",
       "2           2                                       20030603   92,易,1296   \n",
       "3           3                                       20190507  108,單禁沒,54   \n",
       "4           4                                       20030116    91,易,901   \n",
       "\n",
       "                                                  內文  \\\n",
       "0  臺灣臺中地方法院刑事判決　　　　　　　　　　　　九十一年度易字第二九四三號\\n　　公　訴　人...   \n",
       "1  臺灣高等法院高雄分院刑事判決　　　　　　　　　八十九年度上易字第一五九號\\n　　上　訴　人...   \n",
       "2  臺灣臺中地方法院刑事判決　　　　　　　　　　　　九十二年度易字第一二九六號\\n　　公　訴　人...   \n",
       "3  臺灣彰化地方法院刑事裁定　　　　　 108年度單禁沒字第54號\\n聲　請　人　臺灣彰化地方檢...   \n",
       "4  臺灣彰化地方法院刑事判決　　　　　　　　　　　　　九十一年度易字第九一號\\n　　公　訴　人...   \n",
       "\n",
       "                                                  法規   法官  裁判類型            案由  \\\n",
       "0  ['中華民國刑法第38條第1項第1款', '中華民國刑法第11條', '刑事訴訟法第299條...  洪俊誠  刑事判決  違反槍砲彈藥刀械管制條例   \n",
       "1      ['刑事訴訟法第368條', '刑事訴訟法第301條第1項', '刑事訴訟法第154條']  莊秋桃  刑事判決  違反槍彈藥刀械管制條例   \n",
       "2  ['中華民國刑法第38條第1項第1款', '中華民國刑法第11條', '刑事訴訟法第299條...  陳如玲  刑事判決  違反槍砲彈藥刀械管制條例   \n",
       "3  ['中華民國刑法第38條第1項', '中華民國刑法第40條第2項', '刑事訴訟法第455條...  巫美蕙  刑事裁定     聲請裁定沒收違禁物   \n",
       "4  ['中華民國刑法第38條第1項第1款', '中華民國刑法第11條', '刑事訴訟法第300條...  余仕明  刑事判決  違反槍砲彈藥刀械管制條例   \n",
       "\n",
       "  seg  \n",
       "0      \n",
       "1      \n",
       "2      \n",
       "3      \n",
       "4      "
      ]
     },
     "execution_count": 12,
     "metadata": {},
     "output_type": "execute_result"
    }
   ],
   "source": [
    "orgdata['seg'] = \"\"\n",
    "orgdata.head()"
   ]
  },
  {
   "cell_type": "code",
   "execution_count": 14,
   "id": "d3190667",
   "metadata": {},
   "outputs": [
    {
     "name": "stderr",
     "output_type": "stream",
     "text": [
      "C:\\Users\\USER\\AppData\\Local\\Temp\\ipykernel_30884\\730037273.py:7: SettingWithCopyWarning: \n",
      "A value is trying to be set on a copy of a slice from a DataFrame\n",
      "\n",
      "See the caveats in the documentation: https://pandas.pydata.org/pandas-docs/stable/user_guide/indexing.html#returning-a-view-versus-a-copy\n",
      "  orgdata['seg'].iloc[index] = seg_list\n"
     ]
    }
   ],
   "source": [
    "jieba.analyse.set_stop_words('不小心愛上你.txt')\n",
    "index = 0\n",
    "for documents in orgdata['內文']:\n",
    "    documents = re.sub('\\d+', '', documents)\n",
    "    documents = re.sub('[a-zA-Z0-9]+', '', documents)    \n",
    "    seg_list = jieba.analyse.extract_tags(documents, topK=50, withWeight=False, allowPOS=()) \n",
    "    orgdata['seg'].iloc[index] = seg_list\n",
    "    index += 1"
   ]
  },
  {
   "cell_type": "code",
   "execution_count": 15,
   "id": "6e6bd090",
   "metadata": {},
   "outputs": [
    {
     "data": {
      "text/plain": [
       "0     [刀械, 彈藥, 條例, 管制, 未經許, 攜帶, 被告, 機關, 手指, 地方法院, 九十...\n",
       "1     [刀械, 條例, 彈藥, 管制, 被告, 鑑驗, 匕首, 認定, 上訴, 八十九年, 第三款...\n",
       "2     [刀械, 彈藥, 武士刀, 條例, 攜帶, 被告, 未經許, 管制, 機關, 垃圾袋, 判決...\n",
       "3     [刀械, 彈藥, 條例, 管制, 第號, 武士刀, 沒收, 鑑驗, 第條, 禁物, 第項, ...\n",
       "4     [刀械, 彈藥, 彰化, 條例, 判決, 手指, 未經許, 攜帶, 被告, 管制, 場所, ...\n",
       "                            ...                        \n",
       "65    [刀械, 彈藥, 原告, 條例, 第條, 管制, 規定, 被告, 第項, 機關, 判決, 第...\n",
       "66    [刀械, 彈藥, 條例, 管制, 第號, 沒收, 第條, 禁物, 武士刀, 鑑驗, 第項, ...\n",
       "67    [刀械, 彈藥, 條例, 管制, 第條, 沒收, 第項, 禁物, 第號, 武士刀, 鑑驗, ...\n",
       "68    [刀械, 彈藥, 條例, 管制, 沒收, 禁物, 第號, 武士刀, 鑑驗, 第條, 裁定, ...\n",
       "69    [刀械, 管制, 條例, 彈藥, 扣案, 被告, 本件, 認定, 提要, 高雄市, 上訴, ...\n",
       "Name: seg, Length: 70, dtype: object"
      ]
     },
     "execution_count": 15,
     "metadata": {},
     "output_type": "execute_result"
    }
   ],
   "source": [
    "orgdata['seg']"
   ]
  },
  {
   "cell_type": "code",
   "execution_count": 17,
   "id": "14f4bea0",
   "metadata": {},
   "outputs": [],
   "source": [
    "judgedate = orgdata['日期'].iloc[0].split('年')"
   ]
  },
  {
   "cell_type": "code",
   "execution_count": 19,
   "id": "e3918069",
   "metadata": {},
   "outputs": [
    {
     "data": {
      "text/plain": [
       "'20021129'"
      ]
     },
     "execution_count": 19,
     "metadata": {},
     "output_type": "execute_result"
    }
   ],
   "source": [
    "judgedate[0]"
   ]
  },
  {
   "cell_type": "code",
   "execution_count": 20,
   "id": "7c36e866",
   "metadata": {},
   "outputs": [
    {
     "name": "stderr",
     "output_type": "stream",
     "text": [
      "C:\\Users\\USER\\AppData\\Local\\Temp\\ipykernel_30884\\3150131560.py:5: SettingWithCopyWarning: \n",
      "A value is trying to be set on a copy of a slice from a DataFrame\n",
      "\n",
      "See the caveats in the documentation: https://pandas.pydata.org/pandas-docs/stable/user_guide/indexing.html#returning-a-view-versus-a-copy\n",
      "  orgdata['year'].iloc[index] = re.sub(r\"\\s+\", \"\", date_split[0])\n"
     ]
    }
   ],
   "source": [
    "orgdata['year'] = \"\"\n",
    "index = 0\n",
    "for documents in orgdata['日期']:\n",
    "    date_split = documents.split('年')\n",
    "    orgdata['year'].iloc[index] = re.sub(r\"\\s+\", \"\", date_split[0])\n",
    "    index += 1"
   ]
  },
  {
   "cell_type": "code",
   "execution_count": 22,
   "id": "9c217682",
   "metadata": {},
   "outputs": [
    {
     "data": {
      "text/html": [
       "<div>\n",
       "<style scoped>\n",
       "    .dataframe tbody tr th:only-of-type {\n",
       "        vertical-align: middle;\n",
       "    }\n",
       "\n",
       "    .dataframe tbody tr th {\n",
       "        vertical-align: top;\n",
       "    }\n",
       "\n",
       "    .dataframe thead th {\n",
       "        text-align: right;\n",
       "    }\n",
       "</style>\n",
       "<table border=\"1\" class=\"dataframe\">\n",
       "  <thead>\n",
       "    <tr style=\"text-align: right;\">\n",
       "      <th></th>\n",
       "      <th>Unnamed: 0</th>\n",
       "      <th>日期</th>\n",
       "      <th>案號</th>\n",
       "      <th>內文</th>\n",
       "      <th>法規</th>\n",
       "      <th>法官</th>\n",
       "      <th>裁判類型</th>\n",
       "      <th>案由</th>\n",
       "      <th>seg</th>\n",
       "      <th>year</th>\n",
       "    </tr>\n",
       "  </thead>\n",
       "  <tbody>\n",
       "    <tr>\n",
       "      <th>0</th>\n",
       "      <td>0</td>\n",
       "      <td>20021129</td>\n",
       "      <td>91,易,2943</td>\n",
       "      <td>臺灣臺中地方法院刑事判決　　　　　　　　　　　　九十一年度易字第二九四三號\\n　　公　訴　人...</td>\n",
       "      <td>['中華民國刑法第38條第1項第1款', '中華民國刑法第11條', '刑事訴訟法第299條...</td>\n",
       "      <td>洪俊誠</td>\n",
       "      <td>刑事判決</td>\n",
       "      <td>違反槍砲彈藥刀械管制條例</td>\n",
       "      <td>[刀械, 彈藥, 條例, 管制, 未經許, 攜帶, 被告, 機關, 手指, 地方法院, 九十...</td>\n",
       "      <td>20021129</td>\n",
       "    </tr>\n",
       "    <tr>\n",
       "      <th>1</th>\n",
       "      <td>1</td>\n",
       "      <td>20000808-279568d4-5d44-4f67-9053-41d33d651f5e</td>\n",
       "      <td>89,上易,1059</td>\n",
       "      <td>臺灣高等法院高雄分院刑事判決　　　　　　　　　八十九年度上易字第一五九號\\n　　上　訴　人...</td>\n",
       "      <td>['刑事訴訟法第368條', '刑事訴訟法第301條第1項', '刑事訴訟法第154條']</td>\n",
       "      <td>莊秋桃</td>\n",
       "      <td>刑事判決</td>\n",
       "      <td>違反槍彈藥刀械管制條例</td>\n",
       "      <td>[刀械, 條例, 彈藥, 管制, 被告, 鑑驗, 匕首, 認定, 上訴, 八十九年, 第三款...</td>\n",
       "      <td>20000808-279568d4-5d44-4f67-9053-41d33d651f5e</td>\n",
       "    </tr>\n",
       "    <tr>\n",
       "      <th>2</th>\n",
       "      <td>2</td>\n",
       "      <td>20030603</td>\n",
       "      <td>92,易,1296</td>\n",
       "      <td>臺灣臺中地方法院刑事判決　　　　　　　　　　　　九十二年度易字第一二九六號\\n　　公　訴　人...</td>\n",
       "      <td>['中華民國刑法第38條第1項第1款', '中華民國刑法第11條', '刑事訴訟法第299條...</td>\n",
       "      <td>陳如玲</td>\n",
       "      <td>刑事判決</td>\n",
       "      <td>違反槍砲彈藥刀械管制條例</td>\n",
       "      <td>[刀械, 彈藥, 武士刀, 條例, 攜帶, 被告, 未經許, 管制, 機關, 垃圾袋, 判決...</td>\n",
       "      <td>20030603</td>\n",
       "    </tr>\n",
       "    <tr>\n",
       "      <th>3</th>\n",
       "      <td>3</td>\n",
       "      <td>20190507</td>\n",
       "      <td>108,單禁沒,54</td>\n",
       "      <td>臺灣彰化地方法院刑事裁定　　　　　 108年度單禁沒字第54號\\n聲　請　人　臺灣彰化地方檢...</td>\n",
       "      <td>['中華民國刑法第38條第1項', '中華民國刑法第40條第2項', '刑事訴訟法第455條...</td>\n",
       "      <td>巫美蕙</td>\n",
       "      <td>刑事裁定</td>\n",
       "      <td>聲請裁定沒收違禁物</td>\n",
       "      <td>[刀械, 彈藥, 條例, 管制, 第號, 武士刀, 沒收, 鑑驗, 第條, 禁物, 第項, ...</td>\n",
       "      <td>20190507</td>\n",
       "    </tr>\n",
       "    <tr>\n",
       "      <th>4</th>\n",
       "      <td>4</td>\n",
       "      <td>20030116</td>\n",
       "      <td>91,易,901</td>\n",
       "      <td>臺灣彰化地方法院刑事判決　　　　　　　　　　　　　九十一年度易字第九一號\\n　　公　訴　人...</td>\n",
       "      <td>['中華民國刑法第38條第1項第1款', '中華民國刑法第11條', '刑事訴訟法第300條...</td>\n",
       "      <td>余仕明</td>\n",
       "      <td>刑事判決</td>\n",
       "      <td>違反槍砲彈藥刀械管制條例</td>\n",
       "      <td>[刀械, 彈藥, 彰化, 條例, 判決, 手指, 未經許, 攜帶, 被告, 管制, 場所, ...</td>\n",
       "      <td>20030116</td>\n",
       "    </tr>\n",
       "  </tbody>\n",
       "</table>\n",
       "</div>"
      ],
      "text/plain": [
       "   Unnamed: 0                                             日期          案號  \\\n",
       "0           0                                       20021129   91,易,2943   \n",
       "1           1  20000808-279568d4-5d44-4f67-9053-41d33d651f5e  89,上易,1059   \n",
       "2           2                                       20030603   92,易,1296   \n",
       "3           3                                       20190507  108,單禁沒,54   \n",
       "4           4                                       20030116    91,易,901   \n",
       "\n",
       "                                                  內文  \\\n",
       "0  臺灣臺中地方法院刑事判決　　　　　　　　　　　　九十一年度易字第二九四三號\\n　　公　訴　人...   \n",
       "1  臺灣高等法院高雄分院刑事判決　　　　　　　　　八十九年度上易字第一五九號\\n　　上　訴　人...   \n",
       "2  臺灣臺中地方法院刑事判決　　　　　　　　　　　　九十二年度易字第一二九六號\\n　　公　訴　人...   \n",
       "3  臺灣彰化地方法院刑事裁定　　　　　 108年度單禁沒字第54號\\n聲　請　人　臺灣彰化地方檢...   \n",
       "4  臺灣彰化地方法院刑事判決　　　　　　　　　　　　　九十一年度易字第九一號\\n　　公　訴　人...   \n",
       "\n",
       "                                                  法規   法官  裁判類型            案由  \\\n",
       "0  ['中華民國刑法第38條第1項第1款', '中華民國刑法第11條', '刑事訴訟法第299條...  洪俊誠  刑事判決  違反槍砲彈藥刀械管制條例   \n",
       "1      ['刑事訴訟法第368條', '刑事訴訟法第301條第1項', '刑事訴訟法第154條']  莊秋桃  刑事判決  違反槍彈藥刀械管制條例   \n",
       "2  ['中華民國刑法第38條第1項第1款', '中華民國刑法第11條', '刑事訴訟法第299條...  陳如玲  刑事判決  違反槍砲彈藥刀械管制條例   \n",
       "3  ['中華民國刑法第38條第1項', '中華民國刑法第40條第2項', '刑事訴訟法第455條...  巫美蕙  刑事裁定     聲請裁定沒收違禁物   \n",
       "4  ['中華民國刑法第38條第1項第1款', '中華民國刑法第11條', '刑事訴訟法第300條...  余仕明  刑事判決  違反槍砲彈藥刀械管制條例   \n",
       "\n",
       "                                                 seg  \\\n",
       "0  [刀械, 彈藥, 條例, 管制, 未經許, 攜帶, 被告, 機關, 手指, 地方法院, 九十...   \n",
       "1  [刀械, 條例, 彈藥, 管制, 被告, 鑑驗, 匕首, 認定, 上訴, 八十九年, 第三款...   \n",
       "2  [刀械, 彈藥, 武士刀, 條例, 攜帶, 被告, 未經許, 管制, 機關, 垃圾袋, 判決...   \n",
       "3  [刀械, 彈藥, 條例, 管制, 第號, 武士刀, 沒收, 鑑驗, 第條, 禁物, 第項, ...   \n",
       "4  [刀械, 彈藥, 彰化, 條例, 判決, 手指, 未經許, 攜帶, 被告, 管制, 場所, ...   \n",
       "\n",
       "                                            year  \n",
       "0                                       20021129  \n",
       "1  20000808-279568d4-5d44-4f67-9053-41d33d651f5e  \n",
       "2                                       20030603  \n",
       "3                                       20190507  \n",
       "4                                       20030116  "
      ]
     },
     "execution_count": 22,
     "metadata": {},
     "output_type": "execute_result"
    }
   ],
   "source": [
    "orgdata.head()"
   ]
  },
  {
   "cell_type": "code",
   "execution_count": 23,
   "id": "9facc4ad",
   "metadata": {},
   "outputs": [
    {
     "data": {
      "text/plain": [
       "dict_keys(['20021129', '20000808-279568d4-5d44-4f67-9053-41d33d651f5e', '20030603', '20190507', '20030116', '20100531', '20190227', '20190111', '20181126', '20070515'])"
      ]
     },
     "execution_count": 23,
     "metadata": {},
     "output_type": "execute_result"
    }
   ],
   "source": [
    "Counter(orgdata['year']).keys()"
   ]
  },
  {
   "cell_type": "code",
   "execution_count": 26,
   "id": "394f0a4b",
   "metadata": {},
   "outputs": [
    {
     "data": {
      "text/html": [
       "<div>\n",
       "<style scoped>\n",
       "    .dataframe tbody tr th:only-of-type {\n",
       "        vertical-align: middle;\n",
       "    }\n",
       "\n",
       "    .dataframe tbody tr th {\n",
       "        vertical-align: top;\n",
       "    }\n",
       "\n",
       "    .dataframe thead th {\n",
       "        text-align: right;\n",
       "    }\n",
       "</style>\n",
       "<table border=\"1\" class=\"dataframe\">\n",
       "  <thead>\n",
       "    <tr style=\"text-align: right;\">\n",
       "      <th></th>\n",
       "      <th>Unnamed: 0</th>\n",
       "      <th>日期</th>\n",
       "      <th>案號</th>\n",
       "      <th>內文</th>\n",
       "      <th>法規</th>\n",
       "      <th>法官</th>\n",
       "      <th>裁判類型</th>\n",
       "      <th>案由</th>\n",
       "      <th>seg</th>\n",
       "      <th>year</th>\n",
       "    </tr>\n",
       "  </thead>\n",
       "  <tbody>\n",
       "    <tr>\n",
       "      <th>0</th>\n",
       "      <td>0</td>\n",
       "      <td>20021129</td>\n",
       "      <td>91,易,2943</td>\n",
       "      <td>臺灣臺中地方法院刑事判決　　　　　　　　　　　　九十一年度易字第二九四三號\\n　　公　訴　人...</td>\n",
       "      <td>['中華民國刑法第38條第1項第1款', '中華民國刑法第11條', '刑事訴訟法第299條...</td>\n",
       "      <td>洪俊誠</td>\n",
       "      <td>刑事判決</td>\n",
       "      <td>違反槍砲彈藥刀械管制條例</td>\n",
       "      <td>[刀械, 彈藥, 條例, 管制, 未經許, 攜帶, 被告, 機關, 手指, 地方法院, 九十...</td>\n",
       "      <td>20021129</td>\n",
       "    </tr>\n",
       "    <tr>\n",
       "      <th>10</th>\n",
       "      <td>10</td>\n",
       "      <td>20021129</td>\n",
       "      <td>91,易,2943</td>\n",
       "      <td>臺灣臺中地方法院刑事判決　　　　　　　　　　　　九十一年度易字第二九四三號\\n　　公　訴　人...</td>\n",
       "      <td>['中華民國刑法第38條第1項第1款', '中華民國刑法第11條', '刑事訴訟法第299條...</td>\n",
       "      <td>洪俊誠</td>\n",
       "      <td>刑事判決</td>\n",
       "      <td>違反槍砲彈藥刀械管制條例</td>\n",
       "      <td>[刀械, 彈藥, 條例, 管制, 未經許, 攜帶, 被告, 機關, 手指, 地方法院, 九十...</td>\n",
       "      <td>20021129</td>\n",
       "    </tr>\n",
       "    <tr>\n",
       "      <th>20</th>\n",
       "      <td>20</td>\n",
       "      <td>20021129</td>\n",
       "      <td>91,易,2943</td>\n",
       "      <td>臺灣臺中地方法院刑事判決　　　　　　　　　　　　九十一年度易字第二九四三號\\n　　公　訴　人...</td>\n",
       "      <td>['中華民國刑法第38條第1項第1款', '中華民國刑法第11條', '刑事訴訟法第299條...</td>\n",
       "      <td>洪俊誠</td>\n",
       "      <td>刑事判決</td>\n",
       "      <td>違反槍砲彈藥刀械管制條例</td>\n",
       "      <td>[刀械, 彈藥, 條例, 管制, 未經許, 攜帶, 被告, 機關, 手指, 地方法院, 九十...</td>\n",
       "      <td>20021129</td>\n",
       "    </tr>\n",
       "    <tr>\n",
       "      <th>30</th>\n",
       "      <td>30</td>\n",
       "      <td>20021129</td>\n",
       "      <td>91,易,2943</td>\n",
       "      <td>臺灣臺中地方法院刑事判決　　　　　　　　　　　　九十一年度易字第二九四三號\\n　　公　訴　人...</td>\n",
       "      <td>['中華民國刑法第38條第1項第1款', '中華民國刑法第11條', '刑事訴訟法第299條...</td>\n",
       "      <td>洪俊誠</td>\n",
       "      <td>刑事判決</td>\n",
       "      <td>違反槍砲彈藥刀械管制條例</td>\n",
       "      <td>[刀械, 彈藥, 條例, 管制, 未經許, 攜帶, 被告, 機關, 手指, 地方法院, 九十...</td>\n",
       "      <td>20021129</td>\n",
       "    </tr>\n",
       "    <tr>\n",
       "      <th>40</th>\n",
       "      <td>40</td>\n",
       "      <td>20021129</td>\n",
       "      <td>91,易,2943</td>\n",
       "      <td>臺灣臺中地方法院刑事判決　　　　　　　　　　　　九十一年度易字第二九四三號\\n　　公　訴　人...</td>\n",
       "      <td>['中華民國刑法第38條第1項第1款', '中華民國刑法第11條', '刑事訴訟法第299條...</td>\n",
       "      <td>洪俊誠</td>\n",
       "      <td>刑事判決</td>\n",
       "      <td>違反槍砲彈藥刀械管制條例</td>\n",
       "      <td>[刀械, 彈藥, 條例, 管制, 未經許, 攜帶, 被告, 機關, 手指, 地方法院, 九十...</td>\n",
       "      <td>20021129</td>\n",
       "    </tr>\n",
       "    <tr>\n",
       "      <th>50</th>\n",
       "      <td>50</td>\n",
       "      <td>20021129</td>\n",
       "      <td>91,易,2943</td>\n",
       "      <td>臺灣臺中地方法院刑事判決　　　　　　　　　　　　九十一年度易字第二九四三號\\n　　公　訴　人...</td>\n",
       "      <td>['中華民國刑法第38條第1項第1款', '中華民國刑法第11條', '刑事訴訟法第299條...</td>\n",
       "      <td>洪俊誠</td>\n",
       "      <td>刑事判決</td>\n",
       "      <td>違反槍砲彈藥刀械管制條例</td>\n",
       "      <td>[刀械, 彈藥, 條例, 管制, 未經許, 攜帶, 被告, 機關, 手指, 地方法院, 九十...</td>\n",
       "      <td>20021129</td>\n",
       "    </tr>\n",
       "    <tr>\n",
       "      <th>60</th>\n",
       "      <td>60</td>\n",
       "      <td>20021129</td>\n",
       "      <td>91,易,2943</td>\n",
       "      <td>臺灣臺中地方法院刑事判決　　　　　　　　　　　　九十一年度易字第二九四三號\\n　　公　訴　人...</td>\n",
       "      <td>['中華民國刑法第38條第1項第1款', '中華民國刑法第11條', '刑事訴訟法第299條...</td>\n",
       "      <td>洪俊誠</td>\n",
       "      <td>刑事判決</td>\n",
       "      <td>違反槍砲彈藥刀械管制條例</td>\n",
       "      <td>[刀械, 彈藥, 條例, 管制, 未經許, 攜帶, 被告, 機關, 手指, 地方法院, 九十...</td>\n",
       "      <td>20021129</td>\n",
       "    </tr>\n",
       "  </tbody>\n",
       "</table>\n",
       "</div>"
      ],
      "text/plain": [
       "    Unnamed: 0        日期         案號  \\\n",
       "0            0  20021129  91,易,2943   \n",
       "10          10  20021129  91,易,2943   \n",
       "20          20  20021129  91,易,2943   \n",
       "30          30  20021129  91,易,2943   \n",
       "40          40  20021129  91,易,2943   \n",
       "50          50  20021129  91,易,2943   \n",
       "60          60  20021129  91,易,2943   \n",
       "\n",
       "                                                   內文  \\\n",
       "0   臺灣臺中地方法院刑事判決　　　　　　　　　　　　九十一年度易字第二九四三號\\n　　公　訴　人...   \n",
       "10  臺灣臺中地方法院刑事判決　　　　　　　　　　　　九十一年度易字第二九四三號\\n　　公　訴　人...   \n",
       "20  臺灣臺中地方法院刑事判決　　　　　　　　　　　　九十一年度易字第二九四三號\\n　　公　訴　人...   \n",
       "30  臺灣臺中地方法院刑事判決　　　　　　　　　　　　九十一年度易字第二九四三號\\n　　公　訴　人...   \n",
       "40  臺灣臺中地方法院刑事判決　　　　　　　　　　　　九十一年度易字第二九四三號\\n　　公　訴　人...   \n",
       "50  臺灣臺中地方法院刑事判決　　　　　　　　　　　　九十一年度易字第二九四三號\\n　　公　訴　人...   \n",
       "60  臺灣臺中地方法院刑事判決　　　　　　　　　　　　九十一年度易字第二九四三號\\n　　公　訴　人...   \n",
       "\n",
       "                                                   法規   法官  裁判類型  \\\n",
       "0   ['中華民國刑法第38條第1項第1款', '中華民國刑法第11條', '刑事訴訟法第299條...  洪俊誠  刑事判決   \n",
       "10  ['中華民國刑法第38條第1項第1款', '中華民國刑法第11條', '刑事訴訟法第299條...  洪俊誠  刑事判決   \n",
       "20  ['中華民國刑法第38條第1項第1款', '中華民國刑法第11條', '刑事訴訟法第299條...  洪俊誠  刑事判決   \n",
       "30  ['中華民國刑法第38條第1項第1款', '中華民國刑法第11條', '刑事訴訟法第299條...  洪俊誠  刑事判決   \n",
       "40  ['中華民國刑法第38條第1項第1款', '中華民國刑法第11條', '刑事訴訟法第299條...  洪俊誠  刑事判決   \n",
       "50  ['中華民國刑法第38條第1項第1款', '中華民國刑法第11條', '刑事訴訟法第299條...  洪俊誠  刑事判決   \n",
       "60  ['中華民國刑法第38條第1項第1款', '中華民國刑法第11條', '刑事訴訟法第299條...  洪俊誠  刑事判決   \n",
       "\n",
       "              案由                                                seg      year  \n",
       "0   違反槍砲彈藥刀械管制條例  [刀械, 彈藥, 條例, 管制, 未經許, 攜帶, 被告, 機關, 手指, 地方法院, 九十...  20021129  \n",
       "10  違反槍砲彈藥刀械管制條例  [刀械, 彈藥, 條例, 管制, 未經許, 攜帶, 被告, 機關, 手指, 地方法院, 九十...  20021129  \n",
       "20  違反槍砲彈藥刀械管制條例  [刀械, 彈藥, 條例, 管制, 未經許, 攜帶, 被告, 機關, 手指, 地方法院, 九十...  20021129  \n",
       "30  違反槍砲彈藥刀械管制條例  [刀械, 彈藥, 條例, 管制, 未經許, 攜帶, 被告, 機關, 手指, 地方法院, 九十...  20021129  \n",
       "40  違反槍砲彈藥刀械管制條例  [刀械, 彈藥, 條例, 管制, 未經許, 攜帶, 被告, 機關, 手指, 地方法院, 九十...  20021129  \n",
       "50  違反槍砲彈藥刀械管制條例  [刀械, 彈藥, 條例, 管制, 未經許, 攜帶, 被告, 機關, 手指, 地方法院, 九十...  20021129  \n",
       "60  違反槍砲彈藥刀械管制條例  [刀械, 彈藥, 條例, 管制, 未經許, 攜帶, 被告, 機關, 手指, 地方法院, 九十...  20021129  "
      ]
     },
     "execution_count": 26,
     "metadata": {},
     "output_type": "execute_result"
    }
   ],
   "source": [
    "orgdata.loc[(orgdata['year'] == '20021129')]"
   ]
  },
  {
   "cell_type": "code",
   "execution_count": 27,
   "id": "f0b6f4ed",
   "metadata": {},
   "outputs": [
    {
     "data": {
      "text/plain": [
       "dict_keys(['20021129', '20000808-279568d4-5d44-4f67-9053-41d33d651f5e', '20030603', '20190507', '20030116', '20100531', '20190227', '20190111', '20181126', '20070515', '\\t20030116'])"
      ]
     },
     "execution_count": 27,
     "metadata": {},
     "output_type": "execute_result"
    }
   ],
   "source": [
    "orgdata.loc[32, 'year'] = '\t20030116'\n",
    "Counter(orgdata['year']).keys()"
   ]
  },
  {
   "cell_type": "code",
   "execution_count": 28,
   "id": "8066f73f",
   "metadata": {},
   "outputs": [],
   "source": [
    "orgdata.to_csv(\"LawTech_TextMining.csv\", index=False)"
   ]
  },
  {
   "cell_type": "code",
   "execution_count": 29,
   "id": "ea360fa4",
   "metadata": {},
   "outputs": [],
   "source": [
    "words = list(orgdata['案由'])\n",
    "show_key = pd.DataFrame(Counter(words).keys())\n",
    "show_values = pd.DataFrame(Counter(words).values())"
   ]
  },
  {
   "cell_type": "code",
   "execution_count": 30,
   "id": "f1f32253",
   "metadata": {},
   "outputs": [
    {
     "data": {
      "text/html": [
       "<div>\n",
       "<style scoped>\n",
       "    .dataframe tbody tr th:only-of-type {\n",
       "        vertical-align: middle;\n",
       "    }\n",
       "\n",
       "    .dataframe tbody tr th {\n",
       "        vertical-align: top;\n",
       "    }\n",
       "\n",
       "    .dataframe thead th {\n",
       "        text-align: right;\n",
       "    }\n",
       "</style>\n",
       "<table border=\"1\" class=\"dataframe\">\n",
       "  <thead>\n",
       "    <tr style=\"text-align: right;\">\n",
       "      <th></th>\n",
       "      <th>judge</th>\n",
       "      <th>freguency</th>\n",
       "    </tr>\n",
       "  </thead>\n",
       "  <tbody>\n",
       "    <tr>\n",
       "      <th>0</th>\n",
       "      <td>違反槍砲彈藥刀械管制條例</td>\n",
       "      <td>28</td>\n",
       "    </tr>\n",
       "    <tr>\n",
       "      <th>1</th>\n",
       "      <td>違反槍彈藥刀械管制條例</td>\n",
       "      <td>7</td>\n",
       "    </tr>\n",
       "    <tr>\n",
       "      <th>2</th>\n",
       "      <td>聲請裁定沒收違禁物</td>\n",
       "      <td>21</td>\n",
       "    </tr>\n",
       "    <tr>\n",
       "      <th>3</th>\n",
       "      <td>槍砲彈藥刀械管制條例</td>\n",
       "      <td>7</td>\n",
       "    </tr>\n",
       "    <tr>\n",
       "      <th>4</th>\n",
       "      <td>沒收違禁物</td>\n",
       "      <td>7</td>\n",
       "    </tr>\n",
       "  </tbody>\n",
       "</table>\n",
       "</div>"
      ],
      "text/plain": [
       "          judge  freguency\n",
       "0  違反槍砲彈藥刀械管制條例         28\n",
       "1  違反槍彈藥刀械管制條例          7\n",
       "2     聲請裁定沒收違禁物         21\n",
       "3    槍砲彈藥刀械管制條例          7\n",
       "4         沒收違禁物          7"
      ]
     },
     "execution_count": 30,
     "metadata": {},
     "output_type": "execute_result"
    }
   ],
   "source": [
    "df = [show_key, show_values]\n",
    "result = pd.concat(df, axis=1)\n",
    "result.columns = ['judge', 'freguency']\n",
    "result"
   ]
  },
  {
   "cell_type": "code",
   "execution_count": null,
   "id": "47920a78",
   "metadata": {},
   "outputs": [],
   "source": []
  }
 ],
 "metadata": {
  "kernelspec": {
   "display_name": "Python 3 (ipykernel)",
   "language": "python",
   "name": "python3"
  },
  "language_info": {
   "codemirror_mode": {
    "name": "ipython",
    "version": 3
   },
   "file_extension": ".py",
   "mimetype": "text/x-python",
   "name": "python",
   "nbconvert_exporter": "python",
   "pygments_lexer": "ipython3",
   "version": "3.9.12"
  }
 },
 "nbformat": 4,
 "nbformat_minor": 5
}
