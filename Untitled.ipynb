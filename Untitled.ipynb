{
 "cells": [
  {
   "cell_type": "code",
   "execution_count": 2,
   "id": "326c47bc",
   "metadata": {},
   "outputs": [
    {
     "name": "stdout",
     "output_type": "stream",
     "text": [
      "['明子', '性別']\n",
      "[['裡小名', '吳筱隆', '塵小築', '徐小號', '度小一', '陳小雞'], ['1', '0', '1', '0', '0', '1']]\n",
      "徐小號\n",
      "{'明子': ['裡小名', '吳筱隆', '塵小築', '徐小號', '度小一', '陳小雞'], '性別': ['1', '0', '1', '0', '0', '1']}\n"
     ]
    }
   ],
   "source": [
    "d={\"明子\":[\"裡小名\",\"吳筱隆\",\"塵小築\",\"徐小號\",\"度小一\",\"陳小雞\"],\n",
    "   \"性別\":[\"1\",\"0\",\"1\",\"0\",\"0\",\"1\"]}\n",
    "\n",
    "\n",
    "l1=list(d.keys())\n",
    "print(l1)\n",
    "l2=list(d.values())\n",
    "print(l2)\n",
    "\n",
    "\n",
    "print(d[\"明子\"][3])\n",
    "\n",
    "d[\"性別\"]=[\"1\",\"0\",\"1\",\"0\",\"0\",\"1\"]\n",
    "print(d)"
   ]
  },
  {
   "cell_type": "code",
   "execution_count": 4,
   "id": "abd890ff",
   "metadata": {},
   "outputs": [
    {
     "name": "stdout",
     "output_type": "stream",
     "text": [
      "['刑事訴訟法', '中華民國刑法']\n",
      "[['第159條之4', '第159條之5', '第159條之1', '第267條', '第299條第1項', '第302條第1款'], ['第11條', '第38條第1項第1款', '第42條第3項', '第55條', '第56條', '第57條', '第59條']]\n",
      "第267條\n",
      "{'刑事訴訟法': ['第159條之4', '第159條之5', '第159條之1', '第267條', '第299條第1項', '第302條第1款'], '中華民國刑法': ['第11條', '第38條第1項第1款', '第42條第3項', '第55條', '第56條', '第57條', '第59條', '第62條']}\n"
     ]
    },
    {
     "data": {
      "text/plain": [
       "'第267條'"
      ]
     },
     "execution_count": 4,
     "metadata": {},
     "output_type": "execute_result"
    }
   ],
   "source": [
    "d={\"刑事訴訟法\":[\"第159條之4\",\"第159條之5\",\"第159條之1\",\"第267條\",\"第299條第1項\",\"第302條第1款\"],\n",
    "   \"中華民國刑法\":[\"第11條\",\"第38條第1項第1款\",\"第42條第3項\",\"第55條\",\"第56條\",\"第57條\",\"第59條\"]}\n",
    "\n",
    "\n",
    "l1=list(d.keys())\n",
    "print(l1)\n",
    "l2=list(d.values())\n",
    "print(l2)\n",
    "\n",
    "\n",
    "print(d[\"刑事訴訟法\"][3])\n",
    "\n",
    "d[\"中華民國刑法\"]=[\"第11條\",\"第38條第1項第1款\",\"第42條第3項\",\"第55條\",\"第56條\",\"第57條\",\"第59條\",\"第62條\"]\n",
    "print(d)\n",
    "d[\"刑事訴訟法\"][3]"
   ]
  },
  {
   "cell_type": "code",
   "execution_count": null,
   "id": "07ce6c3a",
   "metadata": {},
   "outputs": [],
   "source": []
  }
 ],
 "metadata": {
  "kernelspec": {
   "display_name": "Python 3 (ipykernel)",
   "language": "python",
   "name": "python3"
  },
  "language_info": {
   "codemirror_mode": {
    "name": "ipython",
    "version": 3
   },
   "file_extension": ".py",
   "mimetype": "text/x-python",
   "name": "python",
   "nbconvert_exporter": "python",
   "pygments_lexer": "ipython3",
   "version": "3.9.12"
  }
 },
 "nbformat": 4,
 "nbformat_minor": 5
}
