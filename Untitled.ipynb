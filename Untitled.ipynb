{
 "cells": [
  {
   "cell_type": "code",
   "execution_count": 8,
   "id": "88e2f998",
   "metadata": {},
   "outputs": [
    {
     "name": "stdout",
     "output_type": "stream",
     "text": [
      "一、債務人應向債權人清償新臺幣陸拾肆萬貳仟捌佰伍拾元，及其中⑴新臺幣貳拾萬柒仟叁佰玖拾壹元自民國一百零九年十一月十一日起⑵新臺幣貳拾叁萬陸仟捌佰柒拾玖元自民國一百零九年十二月十一日起⑶新臺幣壹拾壹萬伍仟陸佰元自民國一百零九年四月二十七日起⑷新臺幣捌萬貳仟玖佰捌拾元自民國一百零九年八月二十三日起，均至清償日止，皆按年息百分之五計算之利息，並賠償督促程序費用新臺幣伍佰元\n"
     ]
    }
   ],
   "source": [
    "print (\"一、債務人應向債權人清償新臺幣陸拾肆萬貳仟捌佰伍拾元，及其中⑴新臺幣貳拾萬柒仟叁佰玖拾壹元自民國一百零九年十一月十一日起⑵新臺幣貳拾叁萬陸仟捌佰柒拾玖元自民國一百零九年十二月十一日起⑶新臺幣壹拾壹萬伍仟陸佰元自民國一百零九年四月二十七日起⑷新臺幣捌萬貳仟玖佰捌拾元自民國一百零九年八月二十三日起，均至清償日止，皆按年息百分之五計算之利息，並賠償督促程序費用新臺幣伍佰元\")"
   ]
  },
  {
   "cell_type": "code",
   "execution_count": null,
   "id": "0e68939a",
   "metadata": {},
   "outputs": [],
   "source": []
  },
  {
   "cell_type": "code",
   "execution_count": null,
   "id": "6edc1636",
   "metadata": {},
   "outputs": [],
   "source": []
  }
 ],
 "metadata": {
  "kernelspec": {
   "display_name": "Python 3 (ipykernel)",
   "language": "python",
   "name": "python3"
  },
  "language_info": {
   "codemirror_mode": {
    "name": "ipython",
    "version": 3
   },
   "file_extension": ".py",
   "mimetype": "text/x-python",
   "name": "python",
   "nbconvert_exporter": "python",
   "pygments_lexer": "ipython3",
   "version": "3.9.12"
  }
 },
 "nbformat": 4,
 "nbformat_minor": 5
}
