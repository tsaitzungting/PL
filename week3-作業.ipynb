{
 "cells": [
  {
   "cell_type": "code",
   "execution_count": 29,
   "id": "3c598fa6",
   "metadata": {},
   "outputs": [
    {
     "data": {
      "text/html": [
       "<div>\n",
       "<style scoped>\n",
       "    .dataframe tbody tr th:only-of-type {\n",
       "        vertical-align: middle;\n",
       "    }\n",
       "\n",
       "    .dataframe tbody tr th {\n",
       "        vertical-align: top;\n",
       "    }\n",
       "\n",
       "    .dataframe thead th {\n",
       "        text-align: right;\n",
       "    }\n",
       "</style>\n",
       "<table border=\"1\" class=\"dataframe\">\n",
       "  <thead>\n",
       "    <tr style=\"text-align: right;\">\n",
       "      <th></th>\n",
       "      <th>名次</th>\n",
       "      <th>遊戲名</th>\n",
       "      <th>發行日</th>\n",
       "      <th>銷售量(萬)</th>\n",
       "      <th>類型</th>\n",
       "      <th>中文</th>\n",
       "      <th>發行量</th>\n",
       "    </tr>\n",
       "  </thead>\n",
       "  <tbody>\n",
       "    <tr>\n",
       "      <th>0</th>\n",
       "      <td>1</td>\n",
       "      <td>集合啦！動物森友會</td>\n",
       "      <td>2020年3月20日</td>\n",
       "      <td>3938</td>\n",
       "      <td>生活模擬</td>\n",
       "      <td>是</td>\n",
       "      <td>任天堂企劃製作本部</td>\n",
       "    </tr>\n",
       "    <tr>\n",
       "      <th>1</th>\n",
       "      <td>2</td>\n",
       "      <td>寶可夢 晶燦鑽石／明亮珍珠</td>\n",
       "      <td>2021年11月19日</td>\n",
       "      <td>1479</td>\n",
       "      <td>角色扮演</td>\n",
       "      <td>是</td>\n",
       "      <td>ILCA（日语：）</td>\n",
       "    </tr>\n",
       "    <tr>\n",
       "      <th>2</th>\n",
       "      <td>3</td>\n",
       "      <td>寶可夢傳說 阿爾宙斯</td>\n",
       "      <td>2022年1月28日</td>\n",
       "      <td>1264</td>\n",
       "      <td>動作角色扮演</td>\n",
       "      <td>是</td>\n",
       "      <td>GAME FREAK</td>\n",
       "    </tr>\n",
       "    <tr>\n",
       "      <th>3</th>\n",
       "      <td>4</td>\n",
       "      <td>超級瑪利歐3D世界+狂怒世界</td>\n",
       "      <td>2021年2月12日</td>\n",
       "      <td>943</td>\n",
       "      <td>平台</td>\n",
       "      <td>是</td>\n",
       "      <td>任天堂企劃製作本部</td>\n",
       "    </tr>\n",
       "    <tr>\n",
       "      <th>4</th>\n",
       "      <td>5</td>\n",
       "      <td>超級瑪利歐 3D收藏輯</td>\n",
       "      <td>2020年9月18日</td>\n",
       "      <td>907</td>\n",
       "      <td>平台</td>\n",
       "      <td>否</td>\n",
       "      <td>任天堂企劃製作本部</td>\n",
       "    </tr>\n",
       "  </tbody>\n",
       "</table>\n",
       "</div>"
      ],
      "text/plain": [
       "   名次             遊戲名          發行日  銷售量(萬)      類型  中文         發行量\n",
       "0   1       集合啦！動物森友會   2020年3月20日    3938    生活模擬   是   任天堂企劃製作本部\n",
       "1   2   寶可夢 晶燦鑽石／明亮珍珠  2021年11月19日    1479    角色扮演   是   ILCA（日语：）\n",
       "2   3      寶可夢傳說 阿爾宙斯   2022年1月28日    1264  動作角色扮演   是  GAME FREAK\n",
       "3   4  超級瑪利歐3D世界+狂怒世界   2021年2月12日     943      平台   是   任天堂企劃製作本部\n",
       "4   5     超級瑪利歐 3D收藏輯   2020年9月18日     907      平台  否    任天堂企劃製作本部"
      ]
     },
     "execution_count": 29,
     "metadata": {},
     "output_type": "execute_result"
    }
   ],
   "source": [
    "import pandas as pd\n",
    "\n",
    "# read csv file\n",
    "switch1 = pd.read_csv(\"switch_list1.csv\")\n",
    "switch1.tail()\n",
    "alldata1_銷售量 = list(switch['銷售量(萬)'])\n",
    "final_df = switch1.drop_duplicates(subset=['銷售量(萬)'])\n",
    "final_df.head()"
   ]
  },
  {
   "cell_type": "code",
   "execution_count": 30,
   "id": "090fda6d",
   "metadata": {
    "scrolled": true
   },
   "outputs": [
    {
     "data": {
      "text/html": [
       "<div>\n",
       "<style scoped>\n",
       "    .dataframe tbody tr th:only-of-type {\n",
       "        vertical-align: middle;\n",
       "    }\n",
       "\n",
       "    .dataframe tbody tr th {\n",
       "        vertical-align: top;\n",
       "    }\n",
       "\n",
       "    .dataframe thead th {\n",
       "        text-align: right;\n",
       "    }\n",
       "</style>\n",
       "<table border=\"1\" class=\"dataframe\">\n",
       "  <thead>\n",
       "    <tr style=\"text-align: right;\">\n",
       "      <th></th>\n",
       "      <th>名次</th>\n",
       "      <th>遊戲名</th>\n",
       "      <th>發行日</th>\n",
       "      <th>銷售量(萬)</th>\n",
       "      <th>類型</th>\n",
       "      <th>中文</th>\n",
       "      <th>發行量</th>\n",
       "    </tr>\n",
       "  </thead>\n",
       "  <tbody>\n",
       "    <tr>\n",
       "      <th>0</th>\n",
       "      <td>1</td>\n",
       "      <td>马力欧卡丁车8 豪华版</td>\n",
       "      <td>2017年4月28日</td>\n",
       "      <td>4682.0</td>\n",
       "      <td>竞速</td>\n",
       "      <td>是</td>\n",
       "      <td>任天堂情報開發本部</td>\n",
       "    </tr>\n",
       "    <tr>\n",
       "      <th>1</th>\n",
       "      <td>2</td>\n",
       "      <td>任天堂明星大亂鬥 特別版</td>\n",
       "      <td>2018年12月7日</td>\n",
       "      <td>2882.0</td>\n",
       "      <td>動作、格鬥</td>\n",
       "      <td>是</td>\n",
       "      <td>Sora</td>\n",
       "    </tr>\n",
       "    <tr>\n",
       "      <th>2</th>\n",
       "      <td>3</td>\n",
       "      <td>塞尔达传说 旷野之息</td>\n",
       "      <td>2017年3月3日</td>\n",
       "      <td>2714.0</td>\n",
       "      <td>动作冒险、动作角色扮演</td>\n",
       "      <td>是</td>\n",
       "      <td>任天堂企劃製作本部</td>\n",
       "    </tr>\n",
       "    <tr>\n",
       "      <th>3</th>\n",
       "      <td>4</td>\n",
       "      <td>宝可梦 劍／盾</td>\n",
       "      <td>2019年11月15日</td>\n",
       "      <td>2450.0</td>\n",
       "      <td>角色扮演</td>\n",
       "      <td>是</td>\n",
       "      <td>GAME FREAK</td>\n",
       "    </tr>\n",
       "    <tr>\n",
       "      <th>4</th>\n",
       "      <td>5</td>\n",
       "      <td>超级马力欧 奥德赛</td>\n",
       "      <td>2017年10月27日</td>\n",
       "      <td>2393.0</td>\n",
       "      <td>平台、动作冒险</td>\n",
       "      <td>是</td>\n",
       "      <td>1-UP工作室</td>\n",
       "    </tr>\n",
       "  </tbody>\n",
       "</table>\n",
       "</div>"
      ],
      "text/plain": [
       "   名次           遊戲名          發行日  銷售量(萬)           類型 中文         發行量\n",
       "0   1   马力欧卡丁车8 豪华版   2017年4月28日  4682.0           竞速  是   任天堂情報開發本部\n",
       "1   2  任天堂明星大亂鬥 特別版   2018年12月7日  2882.0        動作、格鬥  是        Sora\n",
       "2   3    塞尔达传说 旷野之息    2017年3月3日  2714.0  动作冒险、动作角色扮演  是   任天堂企劃製作本部\n",
       "3   4       宝可梦 劍／盾  2019年11月15日  2450.0         角色扮演  是  GAME FREAK\n",
       "4   5     超级马力欧 奥德赛  2017年10月27日  2393.0      平台、动作冒险  是     1-UP工作室"
      ]
     },
     "execution_count": 30,
     "metadata": {},
     "output_type": "execute_result"
    }
   ],
   "source": [
    "import pandas as pd\n",
    "\n",
    "# read csv file\n",
    "switch2 = pd.read_csv(\"switch_list2.csv\")\n",
    "switch2.tail()\n",
    "alldata2_銷售量= list(switch['銷售量(萬)'])\n",
    "final_df = switch2.drop_duplicates(subset=['銷售量(萬)'])\n",
    "final_df.head()"
   ]
  },
  {
   "cell_type": "code",
   "execution_count": 31,
   "id": "1c75cbb1",
   "metadata": {
    "scrolled": true
   },
   "outputs": [
    {
     "name": "stdout",
     "output_type": "stream",
     "text": [
      "3938.0\n",
      "1479.0\n",
      "1264.0\n",
      "943.0\n",
      "907.0\n",
      "770.0\n",
      "688.0\n",
      "484.0\n",
      "453.0\n",
      "422.0\n",
      "400.0\n",
      "391.0\n",
      "350.0\n",
      "334.0\n",
      "320.0\n",
      "290.0\n",
      "240.0\n",
      "235.0\n",
      "223.0\n",
      "191.0\n",
      "189.0\n",
      "168.0\n",
      "168.0\n",
      "159.0\n",
      "158.0\n",
      "127.0\n",
      "106.0\n",
      "100.0\n",
      "nan\n",
      "nan\n",
      "nan\n",
      "nan\n",
      "nan\n",
      "nan\n",
      "nan\n",
      "nan\n",
      "nan\n",
      "nan\n",
      "nan\n",
      "nan\n",
      "nan\n",
      "nan\n",
      "nan\n",
      "nan\n",
      "nan\n",
      "nan\n",
      "nan\n",
      "nan\n",
      "nan\n",
      "nan\n",
      "nan\n",
      "nan\n",
      "nan\n",
      "nan\n",
      "nan\n",
      "nan\n",
      "nan\n",
      "nan\n",
      "nan\n",
      "nan\n",
      "nan\n",
      "nan\n",
      "nan\n",
      "nan\n",
      "nan\n",
      "nan\n",
      "nan\n",
      "nan\n",
      "nan\n",
      "nan\n",
      "nan\n",
      "nan\n",
      "100.0\n",
      "nan\n",
      "nan\n",
      "nan\n",
      "nan\n",
      "nan\n",
      "nan\n",
      "nan\n",
      "nan\n",
      "nan\n",
      "nan\n",
      "nan\n",
      "nan\n",
      "nan\n",
      "nan\n",
      "nan\n",
      "nan\n",
      "nan\n"
     ]
    }
   ],
   "source": [
    "import pandas as pd\n",
    "\n",
    "# read csv file\n",
    "alldata1_銷售量 = list(switch['銷售量(萬)'])\n",
    "for i in alldata1_銷售量:\n",
    "    print(i)"
   ]
  },
  {
   "cell_type": "code",
   "execution_count": 32,
   "id": "13f1252c",
   "metadata": {
    "scrolled": true
   },
   "outputs": [
    {
     "data": {
      "text/plain": [
       "{'Camelot Software Planning',\n",
       " 'GAME FREAK',\n",
       " 'HAL研究所',\n",
       " 'ILCA（日语：）',\n",
       " 'INFIGHT',\n",
       " 'InnerSloth',\n",
       " 'Intelligent Systems',\n",
       " 'Monolith Soft',\n",
       " 'NDcube',\n",
       " 'Next Level Games',\n",
       " 'Spike Chunsoft',\n",
       " 'Team NINJA',\n",
       " 'Velan Studios',\n",
       " '丹達羅斯媒體（英语：）',\n",
       " '任天堂企劃製作本部',\n",
       " '任天堂情報開發本部',\n",
       " '光榮特庫摩',\n",
       " '卡普空',\n",
       " '水銀蒸氣',\n",
       " '萬代南夢宮工作室'}"
      ]
     },
     "execution_count": 32,
     "metadata": {},
     "output_type": "execute_result"
    }
   ],
   "source": [
    "set_open1 = set(switch1[\"發行量\"])\n",
    "set_open1"
   ]
  },
  {
   "cell_type": "code",
   "execution_count": 33,
   "id": "5cb6a01a",
   "metadata": {},
   "outputs": [
    {
     "data": {
      "text/plain": [
       "{'1-UP工作室',\n",
       " '4J Studios',\n",
       " 'Acquire',\n",
       " 'Camelot Software Planning',\n",
       " 'Dodge Roll',\n",
       " 'GAME FREAK',\n",
       " 'Good-Feel（日语：）',\n",
       " 'Grezzo',\n",
       " 'HAL研究所',\n",
       " 'Intelligent Systems',\n",
       " 'Mojang',\n",
       " 'Monolith Soft',\n",
       " 'NDcube',\n",
       " 'Next Level Games',\n",
       " 'Retro Studios',\n",
       " 'Sora',\n",
       " 'Team NINJA',\n",
       " 'imagineer（日语：）',\n",
       " '任天堂企划制作本部\\xa0',\n",
       " '任天堂企劃製作本部',\n",
       " '任天堂情報開發本部',\n",
       " '白金工作室',\n",
       " '育碧米蘭',\n",
       " '萬代南夢宮工作室'}"
      ]
     },
     "execution_count": 33,
     "metadata": {},
     "output_type": "execute_result"
    }
   ],
   "source": [
    "set_open2 = set(switch2[\"發行量\"])\n",
    "set_open2"
   ]
  },
  {
   "cell_type": "code",
   "execution_count": 34,
   "id": "ab39ac2c",
   "metadata": {},
   "outputs": [
    {
     "data": {
      "text/plain": [
       "{'Camelot Software Planning',\n",
       " 'GAME FREAK',\n",
       " 'HAL研究所',\n",
       " 'Intelligent Systems',\n",
       " 'Monolith Soft',\n",
       " 'NDcube',\n",
       " 'Next Level Games',\n",
       " 'Team NINJA',\n",
       " '任天堂企劃製作本部',\n",
       " '任天堂情報開發本部',\n",
       " '萬代南夢宮工作室'}"
      ]
     },
     "execution_count": 34,
     "metadata": {},
     "output_type": "execute_result"
    }
   ],
   "source": [
    "#交集\n",
    "#2017~2022年 哪些遊戲發行商進入榜單\n",
    "set_open1 & set_open2"
   ]
  },
  {
   "cell_type": "code",
   "execution_count": 36,
   "id": "d39edc9b",
   "metadata": {},
   "outputs": [
    {
     "data": {
      "text/plain": [
       "{'1-UP工作室',\n",
       " '4J Studios',\n",
       " 'Acquire',\n",
       " 'Camelot Software Planning',\n",
       " 'Dodge Roll',\n",
       " 'GAME FREAK',\n",
       " 'Good-Feel（日语：）',\n",
       " 'Grezzo',\n",
       " 'HAL研究所',\n",
       " 'ILCA（日语：）',\n",
       " 'INFIGHT',\n",
       " 'InnerSloth',\n",
       " 'Intelligent Systems',\n",
       " 'Mojang',\n",
       " 'Monolith Soft',\n",
       " 'NDcube',\n",
       " 'Next Level Games',\n",
       " 'Retro Studios',\n",
       " 'Sora',\n",
       " 'Spike Chunsoft',\n",
       " 'Team NINJA',\n",
       " 'Velan Studios',\n",
       " 'imagineer（日语：）',\n",
       " '丹達羅斯媒體（英语：）',\n",
       " '任天堂企划制作本部\\xa0',\n",
       " '任天堂企劃製作本部',\n",
       " '任天堂情報開發本部',\n",
       " '光榮特庫摩',\n",
       " '卡普空',\n",
       " '水銀蒸氣',\n",
       " '白金工作室',\n",
       " '育碧米蘭',\n",
       " '萬代南夢宮工作室'}"
      ]
     },
     "execution_count": 36,
     "metadata": {},
     "output_type": "execute_result"
    }
   ],
   "source": [
    "#聯集\n",
    "#2017~2022年 哪些遊戲發行商在這六年進入榜單\n",
    "set_open1 | set_open2"
   ]
  },
  {
   "cell_type": "code",
   "execution_count": 37,
   "id": "48ec4a51",
   "metadata": {},
   "outputs": [
    {
     "data": {
      "text/plain": [
       "{'ILCA（日语：）',\n",
       " 'INFIGHT',\n",
       " 'InnerSloth',\n",
       " 'Spike Chunsoft',\n",
       " 'Velan Studios',\n",
       " '丹達羅斯媒體（英语：）',\n",
       " '光榮特庫摩',\n",
       " '卡普空',\n",
       " '水銀蒸氣'}"
      ]
     },
     "execution_count": 37,
     "metadata": {},
     "output_type": "execute_result"
    }
   ],
   "source": [
    "#差集\n",
    "#2017~2019年 有入選的但 2020~2022年未入選的發行商\n",
    "set_open1 - set_open2"
   ]
  },
  {
   "cell_type": "code",
   "execution_count": 38,
   "id": "09bc17c1",
   "metadata": {},
   "outputs": [
    {
     "data": {
      "text/plain": [
       "{'1-UP工作室',\n",
       " '4J Studios',\n",
       " 'Acquire',\n",
       " 'Dodge Roll',\n",
       " 'Good-Feel（日语：）',\n",
       " 'Grezzo',\n",
       " 'Mojang',\n",
       " 'Retro Studios',\n",
       " 'Sora',\n",
       " 'imagineer（日语：）',\n",
       " '任天堂企划制作本部\\xa0',\n",
       " '白金工作室',\n",
       " '育碧米蘭'}"
      ]
     },
     "execution_count": 38,
     "metadata": {},
     "output_type": "execute_result"
    }
   ],
   "source": [
    "#差集\n",
    "#2020~2022年 有入選的但 2017~2019年未入選的發行商\n",
    "set_open2 - set_open1"
   ]
  },
  {
   "cell_type": "code",
   "execution_count": 39,
   "id": "2b61ecd2",
   "metadata": {},
   "outputs": [
    {
     "data": {
      "text/plain": [
       "{'1-UP工作室',\n",
       " '4J Studios',\n",
       " 'Acquire',\n",
       " 'Dodge Roll',\n",
       " 'Good-Feel（日语：）',\n",
       " 'Grezzo',\n",
       " 'ILCA（日语：）',\n",
       " 'INFIGHT',\n",
       " 'InnerSloth',\n",
       " 'Mojang',\n",
       " 'Retro Studios',\n",
       " 'Sora',\n",
       " 'Spike Chunsoft',\n",
       " 'Velan Studios',\n",
       " 'imagineer（日语：）',\n",
       " '丹達羅斯媒體（英语：）',\n",
       " '任天堂企划制作本部\\xa0',\n",
       " '光榮特庫摩',\n",
       " '卡普空',\n",
       " '水銀蒸氣',\n",
       " '白金工作室',\n",
       " '育碧米蘭'}"
      ]
     },
     "execution_count": 39,
     "metadata": {},
     "output_type": "execute_result"
    }
   ],
   "source": [
    "#相互聯集\n",
    "#2017~2022年入選交集以外的發行商\n",
    "set1=set_open1 | set_open2\n",
    "set2=set_open1 & set_open2\n",
    "\n",
    "set1-set2"
   ]
  },
  {
   "cell_type": "code",
   "execution_count": null,
   "id": "fcbc53cb",
   "metadata": {},
   "outputs": [],
   "source": []
  }
 ],
 "metadata": {
  "kernelspec": {
   "display_name": "Python 3 (ipykernel)",
   "language": "python",
   "name": "python3"
  },
  "language_info": {
   "codemirror_mode": {
    "name": "ipython",
    "version": 3
   },
   "file_extension": ".py",
   "mimetype": "text/x-python",
   "name": "python",
   "nbconvert_exporter": "python",
   "pygments_lexer": "ipython3",
   "version": "3.9.12"
  }
 },
 "nbformat": 4,
 "nbformat_minor": 5
}
